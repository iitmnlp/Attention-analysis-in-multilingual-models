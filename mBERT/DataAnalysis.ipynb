{
  "nbformat": 4,
  "nbformat_minor": 0,
  "metadata": {
    "colab": {
      "name": "DataAnalysis-Thesis.ipynb",
      "provenance": [],
      "collapsed_sections": []
    },
    "kernelspec": {
      "display_name": "Python 3",
      "name": "python3"
    },
    "widgets": {
      "application/vnd.jupyter.widget-state+json": {
        "2d59e86d4ac74a98829c99973fa867f1": {
          "model_module": "@jupyter-widgets/controls",
          "model_name": "HBoxModel",
          "state": {
            "_view_name": "HBoxView",
            "_dom_classes": [],
            "_model_name": "HBoxModel",
            "_view_module": "@jupyter-widgets/controls",
            "_model_module_version": "1.5.0",
            "_view_count": null,
            "_view_module_version": "1.5.0",
            "box_style": "",
            "layout": "IPY_MODEL_ed795b1d14654492a4d3ccdadd3b324e",
            "_model_module": "@jupyter-widgets/controls",
            "children": [
              "IPY_MODEL_f1f28f8d19414a23a685d87706baf7f8",
              "IPY_MODEL_a8ea38aa4f084c3e9134ab05af0b79a8"
            ]
          }
        },
        "ed795b1d14654492a4d3ccdadd3b324e": {
          "model_module": "@jupyter-widgets/base",
          "model_name": "LayoutModel",
          "state": {
            "_view_name": "LayoutView",
            "grid_template_rows": null,
            "right": null,
            "justify_content": null,
            "_view_module": "@jupyter-widgets/base",
            "overflow": null,
            "_model_module_version": "1.2.0",
            "_view_count": null,
            "flex_flow": null,
            "width": null,
            "min_width": null,
            "border": null,
            "align_items": null,
            "bottom": null,
            "_model_module": "@jupyter-widgets/base",
            "top": null,
            "grid_column": null,
            "overflow_y": null,
            "overflow_x": null,
            "grid_auto_flow": null,
            "grid_area": null,
            "grid_template_columns": null,
            "flex": null,
            "_model_name": "LayoutModel",
            "justify_items": null,
            "grid_row": null,
            "max_height": null,
            "align_content": null,
            "visibility": null,
            "align_self": null,
            "height": null,
            "min_height": null,
            "padding": null,
            "grid_auto_rows": null,
            "grid_gap": null,
            "max_width": null,
            "order": null,
            "_view_module_version": "1.2.0",
            "grid_template_areas": null,
            "object_position": null,
            "object_fit": null,
            "grid_auto_columns": null,
            "margin": null,
            "display": null,
            "left": null
          }
        },
        "f1f28f8d19414a23a685d87706baf7f8": {
          "model_module": "@jupyter-widgets/controls",
          "model_name": "FloatProgressModel",
          "state": {
            "_view_name": "ProgressView",
            "style": "IPY_MODEL_0136357f4cc54f419d292dbeaef15476",
            "_dom_classes": [],
            "description": "Downloading: 100%",
            "_model_name": "FloatProgressModel",
            "bar_style": "success",
            "max": 995526,
            "_view_module": "@jupyter-widgets/controls",
            "_model_module_version": "1.5.0",
            "value": 995526,
            "_view_count": null,
            "_view_module_version": "1.5.0",
            "orientation": "horizontal",
            "min": 0,
            "description_tooltip": null,
            "_model_module": "@jupyter-widgets/controls",
            "layout": "IPY_MODEL_20ab8ebca7924a61a36dc9dd88edcbf5"
          }
        },
        "a8ea38aa4f084c3e9134ab05af0b79a8": {
          "model_module": "@jupyter-widgets/controls",
          "model_name": "HTMLModel",
          "state": {
            "_view_name": "HTMLView",
            "style": "IPY_MODEL_2e87c89f940f400e9751644e2b65ded1",
            "_dom_classes": [],
            "description": "",
            "_model_name": "HTMLModel",
            "placeholder": "​",
            "_view_module": "@jupyter-widgets/controls",
            "_model_module_version": "1.5.0",
            "value": " 996k/996k [00:00&lt;00:00, 4.70MB/s]",
            "_view_count": null,
            "_view_module_version": "1.5.0",
            "description_tooltip": null,
            "_model_module": "@jupyter-widgets/controls",
            "layout": "IPY_MODEL_976c0a4f04654893a5095b88a92071ee"
          }
        },
        "0136357f4cc54f419d292dbeaef15476": {
          "model_module": "@jupyter-widgets/controls",
          "model_name": "ProgressStyleModel",
          "state": {
            "_view_name": "StyleView",
            "_model_name": "ProgressStyleModel",
            "description_width": "initial",
            "_view_module": "@jupyter-widgets/base",
            "_model_module_version": "1.5.0",
            "_view_count": null,
            "_view_module_version": "1.2.0",
            "bar_color": null,
            "_model_module": "@jupyter-widgets/controls"
          }
        },
        "20ab8ebca7924a61a36dc9dd88edcbf5": {
          "model_module": "@jupyter-widgets/base",
          "model_name": "LayoutModel",
          "state": {
            "_view_name": "LayoutView",
            "grid_template_rows": null,
            "right": null,
            "justify_content": null,
            "_view_module": "@jupyter-widgets/base",
            "overflow": null,
            "_model_module_version": "1.2.0",
            "_view_count": null,
            "flex_flow": null,
            "width": null,
            "min_width": null,
            "border": null,
            "align_items": null,
            "bottom": null,
            "_model_module": "@jupyter-widgets/base",
            "top": null,
            "grid_column": null,
            "overflow_y": null,
            "overflow_x": null,
            "grid_auto_flow": null,
            "grid_area": null,
            "grid_template_columns": null,
            "flex": null,
            "_model_name": "LayoutModel",
            "justify_items": null,
            "grid_row": null,
            "max_height": null,
            "align_content": null,
            "visibility": null,
            "align_self": null,
            "height": null,
            "min_height": null,
            "padding": null,
            "grid_auto_rows": null,
            "grid_gap": null,
            "max_width": null,
            "order": null,
            "_view_module_version": "1.2.0",
            "grid_template_areas": null,
            "object_position": null,
            "object_fit": null,
            "grid_auto_columns": null,
            "margin": null,
            "display": null,
            "left": null
          }
        },
        "2e87c89f940f400e9751644e2b65ded1": {
          "model_module": "@jupyter-widgets/controls",
          "model_name": "DescriptionStyleModel",
          "state": {
            "_view_name": "StyleView",
            "_model_name": "DescriptionStyleModel",
            "description_width": "",
            "_view_module": "@jupyter-widgets/base",
            "_model_module_version": "1.5.0",
            "_view_count": null,
            "_view_module_version": "1.2.0",
            "_model_module": "@jupyter-widgets/controls"
          }
        },
        "976c0a4f04654893a5095b88a92071ee": {
          "model_module": "@jupyter-widgets/base",
          "model_name": "LayoutModel",
          "state": {
            "_view_name": "LayoutView",
            "grid_template_rows": null,
            "right": null,
            "justify_content": null,
            "_view_module": "@jupyter-widgets/base",
            "overflow": null,
            "_model_module_version": "1.2.0",
            "_view_count": null,
            "flex_flow": null,
            "width": null,
            "min_width": null,
            "border": null,
            "align_items": null,
            "bottom": null,
            "_model_module": "@jupyter-widgets/base",
            "top": null,
            "grid_column": null,
            "overflow_y": null,
            "overflow_x": null,
            "grid_auto_flow": null,
            "grid_area": null,
            "grid_template_columns": null,
            "flex": null,
            "_model_name": "LayoutModel",
            "justify_items": null,
            "grid_row": null,
            "max_height": null,
            "align_content": null,
            "visibility": null,
            "align_self": null,
            "height": null,
            "min_height": null,
            "padding": null,
            "grid_auto_rows": null,
            "grid_gap": null,
            "max_width": null,
            "order": null,
            "_view_module_version": "1.2.0",
            "grid_template_areas": null,
            "object_position": null,
            "object_fit": null,
            "grid_auto_columns": null,
            "margin": null,
            "display": null,
            "left": null
          }
        },
        "b9e379425a254b36b36e60e0fa1f1af6": {
          "model_module": "@jupyter-widgets/controls",
          "model_name": "HBoxModel",
          "state": {
            "_view_name": "HBoxView",
            "_dom_classes": [],
            "_model_name": "HBoxModel",
            "_view_module": "@jupyter-widgets/controls",
            "_model_module_version": "1.5.0",
            "_view_count": null,
            "_view_module_version": "1.5.0",
            "box_style": "",
            "layout": "IPY_MODEL_d7975f0007fd4bb8b4734b9b6eb1d9e2",
            "_model_module": "@jupyter-widgets/controls",
            "children": [
              "IPY_MODEL_5a9d8b7757154381a9c0c4aa4260a13f",
              "IPY_MODEL_4222e745975342c9885638b3b9ef7777"
            ]
          }
        },
        "d7975f0007fd4bb8b4734b9b6eb1d9e2": {
          "model_module": "@jupyter-widgets/base",
          "model_name": "LayoutModel",
          "state": {
            "_view_name": "LayoutView",
            "grid_template_rows": null,
            "right": null,
            "justify_content": null,
            "_view_module": "@jupyter-widgets/base",
            "overflow": null,
            "_model_module_version": "1.2.0",
            "_view_count": null,
            "flex_flow": null,
            "width": null,
            "min_width": null,
            "border": null,
            "align_items": null,
            "bottom": null,
            "_model_module": "@jupyter-widgets/base",
            "top": null,
            "grid_column": null,
            "overflow_y": null,
            "overflow_x": null,
            "grid_auto_flow": null,
            "grid_area": null,
            "grid_template_columns": null,
            "flex": null,
            "_model_name": "LayoutModel",
            "justify_items": null,
            "grid_row": null,
            "max_height": null,
            "align_content": null,
            "visibility": null,
            "align_self": null,
            "height": null,
            "min_height": null,
            "padding": null,
            "grid_auto_rows": null,
            "grid_gap": null,
            "max_width": null,
            "order": null,
            "_view_module_version": "1.2.0",
            "grid_template_areas": null,
            "object_position": null,
            "object_fit": null,
            "grid_auto_columns": null,
            "margin": null,
            "display": null,
            "left": null
          }
        },
        "5a9d8b7757154381a9c0c4aa4260a13f": {
          "model_module": "@jupyter-widgets/controls",
          "model_name": "FloatProgressModel",
          "state": {
            "_view_name": "ProgressView",
            "style": "IPY_MODEL_056e545d17d743878741be4c3d36a407",
            "_dom_classes": [],
            "description": "Downloading: 100%",
            "_model_name": "FloatProgressModel",
            "bar_style": "success",
            "max": 29,
            "_view_module": "@jupyter-widgets/controls",
            "_model_module_version": "1.5.0",
            "value": 29,
            "_view_count": null,
            "_view_module_version": "1.5.0",
            "orientation": "horizontal",
            "min": 0,
            "description_tooltip": null,
            "_model_module": "@jupyter-widgets/controls",
            "layout": "IPY_MODEL_db9be0dcf36a4c128c03e00743fd5978"
          }
        },
        "4222e745975342c9885638b3b9ef7777": {
          "model_module": "@jupyter-widgets/controls",
          "model_name": "HTMLModel",
          "state": {
            "_view_name": "HTMLView",
            "style": "IPY_MODEL_72d75aaacff441779d2c7058da083c82",
            "_dom_classes": [],
            "description": "",
            "_model_name": "HTMLModel",
            "placeholder": "​",
            "_view_module": "@jupyter-widgets/controls",
            "_model_module_version": "1.5.0",
            "value": " 29.0/29.0 [00:00&lt;00:00, 71.0B/s]",
            "_view_count": null,
            "_view_module_version": "1.5.0",
            "description_tooltip": null,
            "_model_module": "@jupyter-widgets/controls",
            "layout": "IPY_MODEL_78b9384927474d5bb665c9c63e3a47c8"
          }
        },
        "056e545d17d743878741be4c3d36a407": {
          "model_module": "@jupyter-widgets/controls",
          "model_name": "ProgressStyleModel",
          "state": {
            "_view_name": "StyleView",
            "_model_name": "ProgressStyleModel",
            "description_width": "initial",
            "_view_module": "@jupyter-widgets/base",
            "_model_module_version": "1.5.0",
            "_view_count": null,
            "_view_module_version": "1.2.0",
            "bar_color": null,
            "_model_module": "@jupyter-widgets/controls"
          }
        },
        "db9be0dcf36a4c128c03e00743fd5978": {
          "model_module": "@jupyter-widgets/base",
          "model_name": "LayoutModel",
          "state": {
            "_view_name": "LayoutView",
            "grid_template_rows": null,
            "right": null,
            "justify_content": null,
            "_view_module": "@jupyter-widgets/base",
            "overflow": null,
            "_model_module_version": "1.2.0",
            "_view_count": null,
            "flex_flow": null,
            "width": null,
            "min_width": null,
            "border": null,
            "align_items": null,
            "bottom": null,
            "_model_module": "@jupyter-widgets/base",
            "top": null,
            "grid_column": null,
            "overflow_y": null,
            "overflow_x": null,
            "grid_auto_flow": null,
            "grid_area": null,
            "grid_template_columns": null,
            "flex": null,
            "_model_name": "LayoutModel",
            "justify_items": null,
            "grid_row": null,
            "max_height": null,
            "align_content": null,
            "visibility": null,
            "align_self": null,
            "height": null,
            "min_height": null,
            "padding": null,
            "grid_auto_rows": null,
            "grid_gap": null,
            "max_width": null,
            "order": null,
            "_view_module_version": "1.2.0",
            "grid_template_areas": null,
            "object_position": null,
            "object_fit": null,
            "grid_auto_columns": null,
            "margin": null,
            "display": null,
            "left": null
          }
        },
        "72d75aaacff441779d2c7058da083c82": {
          "model_module": "@jupyter-widgets/controls",
          "model_name": "DescriptionStyleModel",
          "state": {
            "_view_name": "StyleView",
            "_model_name": "DescriptionStyleModel",
            "description_width": "",
            "_view_module": "@jupyter-widgets/base",
            "_model_module_version": "1.5.0",
            "_view_count": null,
            "_view_module_version": "1.2.0",
            "_model_module": "@jupyter-widgets/controls"
          }
        },
        "78b9384927474d5bb665c9c63e3a47c8": {
          "model_module": "@jupyter-widgets/base",
          "model_name": "LayoutModel",
          "state": {
            "_view_name": "LayoutView",
            "grid_template_rows": null,
            "right": null,
            "justify_content": null,
            "_view_module": "@jupyter-widgets/base",
            "overflow": null,
            "_model_module_version": "1.2.0",
            "_view_count": null,
            "flex_flow": null,
            "width": null,
            "min_width": null,
            "border": null,
            "align_items": null,
            "bottom": null,
            "_model_module": "@jupyter-widgets/base",
            "top": null,
            "grid_column": null,
            "overflow_y": null,
            "overflow_x": null,
            "grid_auto_flow": null,
            "grid_area": null,
            "grid_template_columns": null,
            "flex": null,
            "_model_name": "LayoutModel",
            "justify_items": null,
            "grid_row": null,
            "max_height": null,
            "align_content": null,
            "visibility": null,
            "align_self": null,
            "height": null,
            "min_height": null,
            "padding": null,
            "grid_auto_rows": null,
            "grid_gap": null,
            "max_width": null,
            "order": null,
            "_view_module_version": "1.2.0",
            "grid_template_areas": null,
            "object_position": null,
            "object_fit": null,
            "grid_auto_columns": null,
            "margin": null,
            "display": null,
            "left": null
          }
        },
        "2c6658df6caf43a687579cdfd5bc5d66": {
          "model_module": "@jupyter-widgets/controls",
          "model_name": "HBoxModel",
          "state": {
            "_view_name": "HBoxView",
            "_dom_classes": [],
            "_model_name": "HBoxModel",
            "_view_module": "@jupyter-widgets/controls",
            "_model_module_version": "1.5.0",
            "_view_count": null,
            "_view_module_version": "1.5.0",
            "box_style": "",
            "layout": "IPY_MODEL_dea97f685498477eaba4b656450c31e6",
            "_model_module": "@jupyter-widgets/controls",
            "children": [
              "IPY_MODEL_9bca7d1be3e14d809c46d78446da5ca6",
              "IPY_MODEL_7192faae5e034e0dbff04363bbbd5568"
            ]
          }
        },
        "dea97f685498477eaba4b656450c31e6": {
          "model_module": "@jupyter-widgets/base",
          "model_name": "LayoutModel",
          "state": {
            "_view_name": "LayoutView",
            "grid_template_rows": null,
            "right": null,
            "justify_content": null,
            "_view_module": "@jupyter-widgets/base",
            "overflow": null,
            "_model_module_version": "1.2.0",
            "_view_count": null,
            "flex_flow": null,
            "width": null,
            "min_width": null,
            "border": null,
            "align_items": null,
            "bottom": null,
            "_model_module": "@jupyter-widgets/base",
            "top": null,
            "grid_column": null,
            "overflow_y": null,
            "overflow_x": null,
            "grid_auto_flow": null,
            "grid_area": null,
            "grid_template_columns": null,
            "flex": null,
            "_model_name": "LayoutModel",
            "justify_items": null,
            "grid_row": null,
            "max_height": null,
            "align_content": null,
            "visibility": null,
            "align_self": null,
            "height": null,
            "min_height": null,
            "padding": null,
            "grid_auto_rows": null,
            "grid_gap": null,
            "max_width": null,
            "order": null,
            "_view_module_version": "1.2.0",
            "grid_template_areas": null,
            "object_position": null,
            "object_fit": null,
            "grid_auto_columns": null,
            "margin": null,
            "display": null,
            "left": null
          }
        },
        "9bca7d1be3e14d809c46d78446da5ca6": {
          "model_module": "@jupyter-widgets/controls",
          "model_name": "FloatProgressModel",
          "state": {
            "_view_name": "ProgressView",
            "style": "IPY_MODEL_9b12070a7f2e46b38f81b1335b3a34e6",
            "_dom_classes": [],
            "description": "Downloading: 100%",
            "_model_name": "FloatProgressModel",
            "bar_style": "success",
            "max": 1961828,
            "_view_module": "@jupyter-widgets/controls",
            "_model_module_version": "1.5.0",
            "value": 1961828,
            "_view_count": null,
            "_view_module_version": "1.5.0",
            "orientation": "horizontal",
            "min": 0,
            "description_tooltip": null,
            "_model_module": "@jupyter-widgets/controls",
            "layout": "IPY_MODEL_9a6187ed249442129213a8afff62a332"
          }
        },
        "7192faae5e034e0dbff04363bbbd5568": {
          "model_module": "@jupyter-widgets/controls",
          "model_name": "HTMLModel",
          "state": {
            "_view_name": "HTMLView",
            "style": "IPY_MODEL_51390154560a4572856e28312ad84060",
            "_dom_classes": [],
            "description": "",
            "_model_name": "HTMLModel",
            "placeholder": "​",
            "_view_module": "@jupyter-widgets/controls",
            "_model_module_version": "1.5.0",
            "value": " 1.96M/1.96M [00:00&lt;00:00, 7.46MB/s]",
            "_view_count": null,
            "_view_module_version": "1.5.0",
            "description_tooltip": null,
            "_model_module": "@jupyter-widgets/controls",
            "layout": "IPY_MODEL_cb3618722f6f4278a7953ad423570cab"
          }
        },
        "9b12070a7f2e46b38f81b1335b3a34e6": {
          "model_module": "@jupyter-widgets/controls",
          "model_name": "ProgressStyleModel",
          "state": {
            "_view_name": "StyleView",
            "_model_name": "ProgressStyleModel",
            "description_width": "initial",
            "_view_module": "@jupyter-widgets/base",
            "_model_module_version": "1.5.0",
            "_view_count": null,
            "_view_module_version": "1.2.0",
            "bar_color": null,
            "_model_module": "@jupyter-widgets/controls"
          }
        },
        "9a6187ed249442129213a8afff62a332": {
          "model_module": "@jupyter-widgets/base",
          "model_name": "LayoutModel",
          "state": {
            "_view_name": "LayoutView",
            "grid_template_rows": null,
            "right": null,
            "justify_content": null,
            "_view_module": "@jupyter-widgets/base",
            "overflow": null,
            "_model_module_version": "1.2.0",
            "_view_count": null,
            "flex_flow": null,
            "width": null,
            "min_width": null,
            "border": null,
            "align_items": null,
            "bottom": null,
            "_model_module": "@jupyter-widgets/base",
            "top": null,
            "grid_column": null,
            "overflow_y": null,
            "overflow_x": null,
            "grid_auto_flow": null,
            "grid_area": null,
            "grid_template_columns": null,
            "flex": null,
            "_model_name": "LayoutModel",
            "justify_items": null,
            "grid_row": null,
            "max_height": null,
            "align_content": null,
            "visibility": null,
            "align_self": null,
            "height": null,
            "min_height": null,
            "padding": null,
            "grid_auto_rows": null,
            "grid_gap": null,
            "max_width": null,
            "order": null,
            "_view_module_version": "1.2.0",
            "grid_template_areas": null,
            "object_position": null,
            "object_fit": null,
            "grid_auto_columns": null,
            "margin": null,
            "display": null,
            "left": null
          }
        },
        "51390154560a4572856e28312ad84060": {
          "model_module": "@jupyter-widgets/controls",
          "model_name": "DescriptionStyleModel",
          "state": {
            "_view_name": "StyleView",
            "_model_name": "DescriptionStyleModel",
            "description_width": "",
            "_view_module": "@jupyter-widgets/base",
            "_model_module_version": "1.5.0",
            "_view_count": null,
            "_view_module_version": "1.2.0",
            "_model_module": "@jupyter-widgets/controls"
          }
        },
        "cb3618722f6f4278a7953ad423570cab": {
          "model_module": "@jupyter-widgets/base",
          "model_name": "LayoutModel",
          "state": {
            "_view_name": "LayoutView",
            "grid_template_rows": null,
            "right": null,
            "justify_content": null,
            "_view_module": "@jupyter-widgets/base",
            "overflow": null,
            "_model_module_version": "1.2.0",
            "_view_count": null,
            "flex_flow": null,
            "width": null,
            "min_width": null,
            "border": null,
            "align_items": null,
            "bottom": null,
            "_model_module": "@jupyter-widgets/base",
            "top": null,
            "grid_column": null,
            "overflow_y": null,
            "overflow_x": null,
            "grid_auto_flow": null,
            "grid_area": null,
            "grid_template_columns": null,
            "flex": null,
            "_model_name": "LayoutModel",
            "justify_items": null,
            "grid_row": null,
            "max_height": null,
            "align_content": null,
            "visibility": null,
            "align_self": null,
            "height": null,
            "min_height": null,
            "padding": null,
            "grid_auto_rows": null,
            "grid_gap": null,
            "max_width": null,
            "order": null,
            "_view_module_version": "1.2.0",
            "grid_template_areas": null,
            "object_position": null,
            "object_fit": null,
            "grid_auto_columns": null,
            "margin": null,
            "display": null,
            "left": null
          }
        },
        "d16039a4fbcd4c74bd49c2c690c56b46": {
          "model_module": "@jupyter-widgets/controls",
          "model_name": "HBoxModel",
          "state": {
            "_view_name": "HBoxView",
            "_dom_classes": [],
            "_model_name": "HBoxModel",
            "_view_module": "@jupyter-widgets/controls",
            "_model_module_version": "1.5.0",
            "_view_count": null,
            "_view_module_version": "1.5.0",
            "box_style": "",
            "layout": "IPY_MODEL_06eb8033864a425bb4ad97f7a27b595f",
            "_model_module": "@jupyter-widgets/controls",
            "children": [
              "IPY_MODEL_de39cc7e979c4425b34d891310b29afc",
              "IPY_MODEL_3f9ddcf3af8847e18a4a3e531ef829ac"
            ]
          }
        },
        "06eb8033864a425bb4ad97f7a27b595f": {
          "model_module": "@jupyter-widgets/base",
          "model_name": "LayoutModel",
          "state": {
            "_view_name": "LayoutView",
            "grid_template_rows": null,
            "right": null,
            "justify_content": null,
            "_view_module": "@jupyter-widgets/base",
            "overflow": null,
            "_model_module_version": "1.2.0",
            "_view_count": null,
            "flex_flow": null,
            "width": null,
            "min_width": null,
            "border": null,
            "align_items": null,
            "bottom": null,
            "_model_module": "@jupyter-widgets/base",
            "top": null,
            "grid_column": null,
            "overflow_y": null,
            "overflow_x": null,
            "grid_auto_flow": null,
            "grid_area": null,
            "grid_template_columns": null,
            "flex": null,
            "_model_name": "LayoutModel",
            "justify_items": null,
            "grid_row": null,
            "max_height": null,
            "align_content": null,
            "visibility": null,
            "align_self": null,
            "height": null,
            "min_height": null,
            "padding": null,
            "grid_auto_rows": null,
            "grid_gap": null,
            "max_width": null,
            "order": null,
            "_view_module_version": "1.2.0",
            "grid_template_areas": null,
            "object_position": null,
            "object_fit": null,
            "grid_auto_columns": null,
            "margin": null,
            "display": null,
            "left": null
          }
        },
        "de39cc7e979c4425b34d891310b29afc": {
          "model_module": "@jupyter-widgets/controls",
          "model_name": "FloatProgressModel",
          "state": {
            "_view_name": "ProgressView",
            "style": "IPY_MODEL_1536d5f2db534210b55670a8a63ac2e0",
            "_dom_classes": [],
            "description": "Downloading: 100%",
            "_model_name": "FloatProgressModel",
            "bar_style": "success",
            "max": 625,
            "_view_module": "@jupyter-widgets/controls",
            "_model_module_version": "1.5.0",
            "value": 625,
            "_view_count": null,
            "_view_module_version": "1.5.0",
            "orientation": "horizontal",
            "min": 0,
            "description_tooltip": null,
            "_model_module": "@jupyter-widgets/controls",
            "layout": "IPY_MODEL_d5e4b4f6bb2748639bb0fa1d88fc0edc"
          }
        },
        "3f9ddcf3af8847e18a4a3e531ef829ac": {
          "model_module": "@jupyter-widgets/controls",
          "model_name": "HTMLModel",
          "state": {
            "_view_name": "HTMLView",
            "style": "IPY_MODEL_543343c3a4c0424aa4ba01842ee37c88",
            "_dom_classes": [],
            "description": "",
            "_model_name": "HTMLModel",
            "placeholder": "​",
            "_view_module": "@jupyter-widgets/controls",
            "_model_module_version": "1.5.0",
            "value": " 625/625 [00:00&lt;00:00, 6.45kB/s]",
            "_view_count": null,
            "_view_module_version": "1.5.0",
            "description_tooltip": null,
            "_model_module": "@jupyter-widgets/controls",
            "layout": "IPY_MODEL_46522d92e14a4a2aa7aed77e13835f66"
          }
        },
        "1536d5f2db534210b55670a8a63ac2e0": {
          "model_module": "@jupyter-widgets/controls",
          "model_name": "ProgressStyleModel",
          "state": {
            "_view_name": "StyleView",
            "_model_name": "ProgressStyleModel",
            "description_width": "initial",
            "_view_module": "@jupyter-widgets/base",
            "_model_module_version": "1.5.0",
            "_view_count": null,
            "_view_module_version": "1.2.0",
            "bar_color": null,
            "_model_module": "@jupyter-widgets/controls"
          }
        },
        "d5e4b4f6bb2748639bb0fa1d88fc0edc": {
          "model_module": "@jupyter-widgets/base",
          "model_name": "LayoutModel",
          "state": {
            "_view_name": "LayoutView",
            "grid_template_rows": null,
            "right": null,
            "justify_content": null,
            "_view_module": "@jupyter-widgets/base",
            "overflow": null,
            "_model_module_version": "1.2.0",
            "_view_count": null,
            "flex_flow": null,
            "width": null,
            "min_width": null,
            "border": null,
            "align_items": null,
            "bottom": null,
            "_model_module": "@jupyter-widgets/base",
            "top": null,
            "grid_column": null,
            "overflow_y": null,
            "overflow_x": null,
            "grid_auto_flow": null,
            "grid_area": null,
            "grid_template_columns": null,
            "flex": null,
            "_model_name": "LayoutModel",
            "justify_items": null,
            "grid_row": null,
            "max_height": null,
            "align_content": null,
            "visibility": null,
            "align_self": null,
            "height": null,
            "min_height": null,
            "padding": null,
            "grid_auto_rows": null,
            "grid_gap": null,
            "max_width": null,
            "order": null,
            "_view_module_version": "1.2.0",
            "grid_template_areas": null,
            "object_position": null,
            "object_fit": null,
            "grid_auto_columns": null,
            "margin": null,
            "display": null,
            "left": null
          }
        },
        "543343c3a4c0424aa4ba01842ee37c88": {
          "model_module": "@jupyter-widgets/controls",
          "model_name": "DescriptionStyleModel",
          "state": {
            "_view_name": "StyleView",
            "_model_name": "DescriptionStyleModel",
            "description_width": "",
            "_view_module": "@jupyter-widgets/base",
            "_model_module_version": "1.5.0",
            "_view_count": null,
            "_view_module_version": "1.2.0",
            "_model_module": "@jupyter-widgets/controls"
          }
        },
        "46522d92e14a4a2aa7aed77e13835f66": {
          "model_module": "@jupyter-widgets/base",
          "model_name": "LayoutModel",
          "state": {
            "_view_name": "LayoutView",
            "grid_template_rows": null,
            "right": null,
            "justify_content": null,
            "_view_module": "@jupyter-widgets/base",
            "overflow": null,
            "_model_module_version": "1.2.0",
            "_view_count": null,
            "flex_flow": null,
            "width": null,
            "min_width": null,
            "border": null,
            "align_items": null,
            "bottom": null,
            "_model_module": "@jupyter-widgets/base",
            "top": null,
            "grid_column": null,
            "overflow_y": null,
            "overflow_x": null,
            "grid_auto_flow": null,
            "grid_area": null,
            "grid_template_columns": null,
            "flex": null,
            "_model_name": "LayoutModel",
            "justify_items": null,
            "grid_row": null,
            "max_height": null,
            "align_content": null,
            "visibility": null,
            "align_self": null,
            "height": null,
            "min_height": null,
            "padding": null,
            "grid_auto_rows": null,
            "grid_gap": null,
            "max_width": null,
            "order": null,
            "_view_module_version": "1.2.0",
            "grid_template_areas": null,
            "object_position": null,
            "object_fit": null,
            "grid_auto_columns": null,
            "margin": null,
            "display": null,
            "left": null
          }
        },
        "c5a657bb1ea14787aa52ce3c9b49ba6e": {
          "model_module": "@jupyter-widgets/controls",
          "model_name": "HBoxModel",
          "state": {
            "_view_name": "HBoxView",
            "_dom_classes": [],
            "_model_name": "HBoxModel",
            "_view_module": "@jupyter-widgets/controls",
            "_model_module_version": "1.5.0",
            "_view_count": null,
            "_view_module_version": "1.5.0",
            "box_style": "",
            "layout": "IPY_MODEL_1a67a47171a74b65a232eb07144dcfc2",
            "_model_module": "@jupyter-widgets/controls",
            "children": [
              "IPY_MODEL_9f8c54f84df74b629a6e6f9aee5b8164",
              "IPY_MODEL_59ac227a02dd4490b51ab61a0d9a2f66"
            ]
          }
        },
        "1a67a47171a74b65a232eb07144dcfc2": {
          "model_module": "@jupyter-widgets/base",
          "model_name": "LayoutModel",
          "state": {
            "_view_name": "LayoutView",
            "grid_template_rows": null,
            "right": null,
            "justify_content": null,
            "_view_module": "@jupyter-widgets/base",
            "overflow": null,
            "_model_module_version": "1.2.0",
            "_view_count": null,
            "flex_flow": null,
            "width": null,
            "min_width": null,
            "border": null,
            "align_items": null,
            "bottom": null,
            "_model_module": "@jupyter-widgets/base",
            "top": null,
            "grid_column": null,
            "overflow_y": null,
            "overflow_x": null,
            "grid_auto_flow": null,
            "grid_area": null,
            "grid_template_columns": null,
            "flex": null,
            "_model_name": "LayoutModel",
            "justify_items": null,
            "grid_row": null,
            "max_height": null,
            "align_content": null,
            "visibility": null,
            "align_self": null,
            "height": null,
            "min_height": null,
            "padding": null,
            "grid_auto_rows": null,
            "grid_gap": null,
            "max_width": null,
            "order": null,
            "_view_module_version": "1.2.0",
            "grid_template_areas": null,
            "object_position": null,
            "object_fit": null,
            "grid_auto_columns": null,
            "margin": null,
            "display": null,
            "left": null
          }
        },
        "9f8c54f84df74b629a6e6f9aee5b8164": {
          "model_module": "@jupyter-widgets/controls",
          "model_name": "FloatProgressModel",
          "state": {
            "_view_name": "ProgressView",
            "style": "IPY_MODEL_57e36bc594af4692b109c8b9e035acaa",
            "_dom_classes": [],
            "description": "Downloading: 100%",
            "_model_name": "FloatProgressModel",
            "bar_style": "success",
            "max": 714314041,
            "_view_module": "@jupyter-widgets/controls",
            "_model_module_version": "1.5.0",
            "value": 714314041,
            "_view_count": null,
            "_view_module_version": "1.5.0",
            "orientation": "horizontal",
            "min": 0,
            "description_tooltip": null,
            "_model_module": "@jupyter-widgets/controls",
            "layout": "IPY_MODEL_123a49b1da244347b6777aa69e521899"
          }
        },
        "59ac227a02dd4490b51ab61a0d9a2f66": {
          "model_module": "@jupyter-widgets/controls",
          "model_name": "HTMLModel",
          "state": {
            "_view_name": "HTMLView",
            "style": "IPY_MODEL_fa4334d0a6e44567b83fcd8215763c18",
            "_dom_classes": [],
            "description": "",
            "_model_name": "HTMLModel",
            "placeholder": "​",
            "_view_module": "@jupyter-widgets/controls",
            "_model_module_version": "1.5.0",
            "value": " 714M/714M [00:18&lt;00:00, 38.2MB/s]",
            "_view_count": null,
            "_view_module_version": "1.5.0",
            "description_tooltip": null,
            "_model_module": "@jupyter-widgets/controls",
            "layout": "IPY_MODEL_3404d7bb173a46ac82a455e7eaacc13f"
          }
        },
        "57e36bc594af4692b109c8b9e035acaa": {
          "model_module": "@jupyter-widgets/controls",
          "model_name": "ProgressStyleModel",
          "state": {
            "_view_name": "StyleView",
            "_model_name": "ProgressStyleModel",
            "description_width": "initial",
            "_view_module": "@jupyter-widgets/base",
            "_model_module_version": "1.5.0",
            "_view_count": null,
            "_view_module_version": "1.2.0",
            "bar_color": null,
            "_model_module": "@jupyter-widgets/controls"
          }
        },
        "123a49b1da244347b6777aa69e521899": {
          "model_module": "@jupyter-widgets/base",
          "model_name": "LayoutModel",
          "state": {
            "_view_name": "LayoutView",
            "grid_template_rows": null,
            "right": null,
            "justify_content": null,
            "_view_module": "@jupyter-widgets/base",
            "overflow": null,
            "_model_module_version": "1.2.0",
            "_view_count": null,
            "flex_flow": null,
            "width": null,
            "min_width": null,
            "border": null,
            "align_items": null,
            "bottom": null,
            "_model_module": "@jupyter-widgets/base",
            "top": null,
            "grid_column": null,
            "overflow_y": null,
            "overflow_x": null,
            "grid_auto_flow": null,
            "grid_area": null,
            "grid_template_columns": null,
            "flex": null,
            "_model_name": "LayoutModel",
            "justify_items": null,
            "grid_row": null,
            "max_height": null,
            "align_content": null,
            "visibility": null,
            "align_self": null,
            "height": null,
            "min_height": null,
            "padding": null,
            "grid_auto_rows": null,
            "grid_gap": null,
            "max_width": null,
            "order": null,
            "_view_module_version": "1.2.0",
            "grid_template_areas": null,
            "object_position": null,
            "object_fit": null,
            "grid_auto_columns": null,
            "margin": null,
            "display": null,
            "left": null
          }
        },
        "fa4334d0a6e44567b83fcd8215763c18": {
          "model_module": "@jupyter-widgets/controls",
          "model_name": "DescriptionStyleModel",
          "state": {
            "_view_name": "StyleView",
            "_model_name": "DescriptionStyleModel",
            "description_width": "",
            "_view_module": "@jupyter-widgets/base",
            "_model_module_version": "1.5.0",
            "_view_count": null,
            "_view_module_version": "1.2.0",
            "_model_module": "@jupyter-widgets/controls"
          }
        },
        "3404d7bb173a46ac82a455e7eaacc13f": {
          "model_module": "@jupyter-widgets/base",
          "model_name": "LayoutModel",
          "state": {
            "_view_name": "LayoutView",
            "grid_template_rows": null,
            "right": null,
            "justify_content": null,
            "_view_module": "@jupyter-widgets/base",
            "overflow": null,
            "_model_module_version": "1.2.0",
            "_view_count": null,
            "flex_flow": null,
            "width": null,
            "min_width": null,
            "border": null,
            "align_items": null,
            "bottom": null,
            "_model_module": "@jupyter-widgets/base",
            "top": null,
            "grid_column": null,
            "overflow_y": null,
            "overflow_x": null,
            "grid_auto_flow": null,
            "grid_area": null,
            "grid_template_columns": null,
            "flex": null,
            "_model_name": "LayoutModel",
            "justify_items": null,
            "grid_row": null,
            "max_height": null,
            "align_content": null,
            "visibility": null,
            "align_self": null,
            "height": null,
            "min_height": null,
            "padding": null,
            "grid_auto_rows": null,
            "grid_gap": null,
            "max_width": null,
            "order": null,
            "_view_module_version": "1.2.0",
            "grid_template_areas": null,
            "object_position": null,
            "object_fit": null,
            "grid_auto_columns": null,
            "margin": null,
            "display": null,
            "left": null
          }
        }
      }
    }
  },
  "cells": [
    {
      "cell_type": "code",
      "metadata": {
        "id": "KpmAwBRekiqW"
      },
      "source": [
        "!pip install transformers==4.5.1"
      ],
      "execution_count": null,
      "outputs": []
    },
    {
      "cell_type": "code",
      "metadata": {
        "id": "-OdpJCSwMV_g"
      },
      "source": [
        "import transformers\n",
        "import pickle\n",
        "import statistics \n",
        "import torch\n",
        "import seaborn as sns\n",
        "from scipy import stats\n",
        "from scipy import spatial\n",
        "from sklearn.manifold import MDS\n",
        "from torch.utils.data import DataLoader\n",
        "from torch.utils.data import Dataset\n",
        "import math\n",
        "import numpy as np\n",
        "import seaborn as sns\n",
        "import matplotlib.pyplot as plt\n",
        "import pandas as pd\n",
        "import csv\n",
        "import plotly.graph_objects as go\n",
        "import plotly.express as px"
      ],
      "execution_count": 5,
      "outputs": []
    },
    {
      "cell_type": "code",
      "metadata": {
        "id": "NePJ4h8nPnzO"
      },
      "source": [
        "#Below are the variables for running the data analysis.\n",
        "#ptweightsPath: path to the pickled sieve bias scores for the 1000 sentences in each of the six languages for the pretrained model.\n",
        "#ftweightsPath: path to the pickled sieve bias scores for the 1000 sentences in each of the six languages for the fine tuned model.\n",
        "#analysisPath: path to store the analysis plots, figures etc.\n",
        "#threshold: Threshold to be used for the statistical tests.\n",
        "#n: Number of sentences\n",
        "\n",
        "ptweightsPath='/content/drive/My Drive/MTP/Weights/'\n",
        "ftweightsPath='/content/drive/My Drive/MTP/Weights/XNLI/'\n",
        "analysisPath='/content/drive/My Drive/MTP/Analytics/'\n",
        "threshold=3\n",
        "n=1000\n",
        "functionspos=['cls','sep','local']\n",
        "functionssyn=['nsubj','amod','advmod','obj']"
      ],
      "execution_count": 9,
      "outputs": []
    },
    {
      "cell_type": "code",
      "metadata": {
        "colab": {
          "base_uri": "https://localhost:8080/"
        },
        "id": "iENGNiR2c52A",
        "outputId": "3c587246-6c58-4e8d-eb34-dbe12d33e536"
      },
      "source": [
        "from google.colab import drive\n",
        "drive.mount('/content/drive')"
      ],
      "execution_count": 7,
      "outputs": [
        {
          "output_type": "stream",
          "text": [
            "Drive already mounted at /content/drive; to attempt to forcibly remount, call drive.mount(\"/content/drive\", force_remount=True).\n"
          ],
          "name": "stdout"
        }
      ]
    },
    {
      "cell_type": "markdown",
      "metadata": {
        "id": "FEXanuKiCheQ"
      },
      "source": [
        "**Plot the P-scores Heatmaps - pretrained model**"
      ]
    },
    {
      "cell_type": "code",
      "metadata": {
        "colab": {
          "base_uri": "https://localhost:8080/"
        },
        "id": "TdAUF3nKCiAl",
        "outputId": "9c734d9f-6f27-4818-aef0-184ef6dafe74"
      },
      "source": [
        "#To find the p-scores lying outside the range (0.05,0.95). This cell can also be used to plot the heatmaps of p-scores, by uncommenting the below lines.\n",
        "\n",
        "languages=['english','german','french','spanish','hindi','urdu']\n",
        "\n",
        "functions=['cls','sep','local','nsubj','amod','advmod','obj']\n",
        "\n",
        "count=0\n",
        "for lang in languages:\n",
        "  for func in functions:\n",
        "    with open(ptweightsPath + lang + '-matrix-' + func + '-1000.pl', 'rb') as f:\n",
        "        headSentScores=pickle.load(f)\n",
        "\n",
        "    pScores=[]\n",
        "\n",
        "    for i in range(1,145):\n",
        "        s=statistics.stdev(headSentScores[i])\n",
        "        m=statistics.mean(headSentScores[i])\n",
        "        t=(m-threshold)/(s/math.sqrt(n))\n",
        "        p=stats.t.sf(t, n-1)\n",
        "        if(p>0.05 and p<0.95):\n",
        "          count+=1\n",
        "        pScores.append(p)\n",
        "\n",
        "    # array=np.array(pScores).reshape(12,12)\n",
        "\n",
        "    # array=np.round(array, 2)\n",
        "\n",
        "    # graph = sns.heatmap(array, cmap='Oranges', annot=array, linewidth=1)\n",
        "\n",
        "    # graph.set_xticks(np.arange(2,13,2))\n",
        "    # graph.set_xticklabels(np.arange(2,13,2),fontdict={'size':15})\n",
        "    # graph.set_yticks(np.arange(2,13,2))\n",
        "    # graph.set_yticklabels(np.arange(2,13,2),fontdict={'size':15})\n",
        "\n",
        "    # graph.set_xlabel('Heads',fontdict={'size':15})\n",
        "    # graph.set_ylabel('Layers',fontdict={'size':15})\n",
        "\n",
        "    # plt.gca().invert_yaxis()\n",
        "    # plt.savefig(analysisPath + 'Plots/PreTrained/' + func + '-pscores.pdf', dpi=1200, format='pdf',bbox_inches='tight')\n",
        "    # plt.clf()\n",
        "\n",
        "print(count/(144*len(languages)*len(functions)))"
      ],
      "execution_count": null,
      "outputs": [
        {
          "output_type": "stream",
          "text": [
            "0.027281746031746032\n"
          ],
          "name": "stdout"
        }
      ]
    },
    {
      "cell_type": "markdown",
      "metadata": {
        "id": "BylM694PJ9Ii"
      },
      "source": [
        "**Spearman correlation for each head, across pairs of languages in the pretrained model**"
      ]
    },
    {
      "cell_type": "code",
      "metadata": {
        "colab": {
          "base_uri": "https://localhost:8080/"
        },
        "id": "cSu4XAZjKCCN",
        "outputId": "d72b6046-81bc-4e3b-c305-ff91b3315bca"
      },
      "source": [
        "#This cell computes the mean spearman correlation for language pairs using the syntactic sieve scores.\n",
        "\n",
        "languages=['english','german','french','spanish','hindi','urdu']\n",
        "\n",
        "functions=['nsubj','amod','advmod','obj']\n",
        "\n",
        "scores=np.array([[0 for i in range(15)] for j in range(0,145)],dtype=float)\n",
        "\n",
        "print(scores.shape)\n",
        "\n",
        "col=0\n",
        "\n",
        "for i in range(len(languages)):\n",
        "  for j in range(i+1,len(languages)):\n",
        "\n",
        "    headScores1=np.array([[0 for i in range(len(functions))] for j in range(0,145)],dtype=float)\n",
        "    headScores2=np.array([[0 for i in range(len(functions))] for j in range(0,145)],dtype=float)\n",
        "\n",
        "    for index,k in enumerate(functions):\n",
        "      with open(ptweightsPath + languages[i]+ '-matrix-' + k + '-1000.pl', 'rb') as f:\n",
        "        headSentScores1=pickle.load(f)\n",
        "      with open(ptweightsPath + languages[j] + '-matrix-' + k + '-1000.pl', 'rb') as f:\n",
        "        headSentScores2=pickle.load(f)\n",
        "\n",
        "      sieveScores1=[]\n",
        "      sieveScores2=[]\n",
        "\n",
        "      for p in range(1,145):\n",
        "        m1=statistics.mean(headSentScores1[p])\n",
        "        m2=statistics.mean(headSentScores2[p])\n",
        "        sieveScores1.append(m1)\n",
        "        sieveScores2.append(m2)\n",
        "\n",
        "      sieveScores1=np.array([0]+sieveScores1)\n",
        "      sieveScores2=np.array([0]+sieveScores2)\n",
        "\n",
        "      headScores1[:,index]=sieveScores1\n",
        "      headScores2[:,index]=sieveScores2\n",
        "\n",
        "    for k in range(1,145):\n",
        "      scores[k][col]=stats.spearmanr(headScores1[k],headScores2[k])[0]\n",
        "    \n",
        "    col+=1\n",
        "\n",
        "    print(i,j)\n",
        "\n",
        "pairs=[]\n",
        "\n",
        "for i in range(len(languages)):\n",
        "    for j in range(i+1,len(languages)):\n",
        "      pairs.append(languages[i].title() + '-' + languages[j].title())\n",
        "\n",
        "df=pd.DataFrame([np.mean(scores,axis=0)],columns=pairs)\n",
        "\n",
        "print(df.T)"
      ],
      "execution_count": null,
      "outputs": [
        {
          "output_type": "stream",
          "text": [
            "(145, 15)\n",
            "0 1\n",
            "0 2\n",
            "0 3\n",
            "0 4\n",
            "0 5\n",
            "1 2\n",
            "1 3\n",
            "1 4\n",
            "1 5\n",
            "2 3\n",
            "2 4\n",
            "2 5\n",
            "3 4\n",
            "3 5\n",
            "4 5\n",
            "                        0\n",
            "English-German   0.718621\n",
            "English-French   0.684138\n",
            "English-Spanish  0.641379\n",
            "English-Hindi    0.554483\n",
            "English-Urdu     0.518621\n",
            "German-French    0.518621\n",
            "German-Spanish   0.531034\n",
            "German-Hindi     0.630345\n",
            "German-Urdu      0.656552\n",
            "French-Spanish   0.776552\n",
            "French-Hindi     0.504828\n",
            "French-Urdu      0.457931\n",
            "Spanish-Hindi    0.573793\n",
            "Spanish-Urdu     0.533793\n",
            "Hindi-Urdu       0.824828\n"
          ],
          "name": "stdout"
        }
      ]
    },
    {
      "cell_type": "markdown",
      "metadata": {
        "id": "GFjyvf2jkqld"
      },
      "source": [
        "**Average number of delimiter heads across languages - pretrained model**"
      ]
    },
    {
      "cell_type": "code",
      "metadata": {
        "colab": {
          "base_uri": "https://localhost:8080/"
        },
        "id": "lE2t15xHglvm",
        "outputId": "2fb51714-af53-4d7a-9747-1ad80af44c74"
      },
      "source": [
        "#This cell computes the average percentage of delimiter heads across the languages in the pretrained model.\n",
        "\n",
        "languages=['english','german','french','spanish','hindi','urdu']\n",
        "\n",
        "functions=['cls','sep']\n",
        "\n",
        "avg=0\n",
        "\n",
        "for i in range(len(languages)):\n",
        "  heads=set()\n",
        "  for index,k in enumerate(functions):\n",
        "    with open(ptweightsPath + languages[i]+ '-matrix-' + k + '-1000.pl', 'rb') as f:\n",
        "        headSentScores=pickle.load(f)\n",
        "\n",
        "    for p in range(1,145):\n",
        "        s=statistics.stdev(headSentScores[p])\n",
        "        m=statistics.mean(headSentScores[p])\n",
        "        t=(m-threshold)/(s/math.sqrt(n))\n",
        "        pval=stats.t.sf(t, n-1)\n",
        "        if(pval<0.05):\n",
        "          heads.add(p)\n",
        "\n",
        "  print(len(heads))\n",
        "  avg+=len(heads)/144\n",
        "    \n",
        "print('Average percentage of delimiter heads ',round((avg/len(languages))*100))"
      ],
      "execution_count": null,
      "outputs": [
        {
          "output_type": "stream",
          "text": [
            "89\n",
            "94\n",
            "97\n",
            "102\n",
            "107\n",
            "101\n",
            "Average percentage of delimiter heads  68\n"
          ],
          "name": "stdout"
        }
      ]
    },
    {
      "cell_type": "markdown",
      "metadata": {
        "id": "unEya9XXkxB7"
      },
      "source": [
        "**Overlap between local and syntactic heads in the pretrained model**"
      ]
    },
    {
      "cell_type": "code",
      "metadata": {
        "colab": {
          "base_uri": "https://localhost:8080/"
        },
        "id": "tZjjiyxDk0IK",
        "outputId": "d4c6c54f-b81f-4c22-cb31-014766a073d9"
      },
      "source": [
        "#This cell computes the average overlap of syntactic heads with local heads in pretrained mBERT.\n",
        "\n",
        "languages=['english','german','french','spanish','hindi','urdu']\n",
        "\n",
        "functions=['nsubj','amod','advmod','obj']\n",
        "\n",
        "avg=0\n",
        "\n",
        "count=0\n",
        "for i in range(len(languages)):\n",
        "  common=set()\n",
        "  for k in functions:\n",
        "    with open(ptweightsPath + languages[i]+ '-matrix-' + k + '-1000.pl', 'rb') as f:\n",
        "        headSentScores=pickle.load(f)\n",
        "\n",
        "    heads=[]\n",
        "    for p in range(1,145):\n",
        "        s=statistics.stdev(headSentScores[p])\n",
        "        m=statistics.mean(headSentScores[p])\n",
        "        t=(m-threshold)/(s/math.sqrt(n))\n",
        "        pval=stats.t.sf(t, n-1)\n",
        "        if(pval<0.05):\n",
        "          heads.append(p)\n",
        "\n",
        "    if(len(common)==0):\n",
        "      common.update(heads)\n",
        "    else:\n",
        "      common=common.union(set(heads))\n",
        "\n",
        "  with open(ptweightsPath + languages[i]+ '-matrix-' + 'local' + '-1000.pl', 'rb') as f:\n",
        "        headSentScores=pickle.load(f)\n",
        "\n",
        "  local=set()\n",
        "  for p in range(1,145):\n",
        "      s=statistics.stdev(headSentScores[p])\n",
        "      m=statistics.mean(headSentScores[p])\n",
        "      t=(m-threshold)/(s/math.sqrt(n))\n",
        "      pval=stats.t.sf(t, n-1)\n",
        "      if(pval<0.05):\n",
        "        local.add(p)\n",
        "  \n",
        "  synCount=len(common)\n",
        "  common=common.intersection(local)\n",
        "  if(synCount!=0):\n",
        "    #print((len(common)/synCount)*100)\n",
        "    avg+=len(common)/synCount\n",
        "    count+=1\n",
        "\n",
        "print('Average overlap of syntactic heads with local heads ', round((avg/count)*100))\n",
        "    "
      ],
      "execution_count": null,
      "outputs": [
        {
          "output_type": "stream",
          "text": [
            "Average overlap of syntactic heads with local heads  71\n"
          ],
          "name": "stdout"
        }
      ]
    },
    {
      "cell_type": "markdown",
      "metadata": {
        "id": "Kf5WagC4r2lA"
      },
      "source": [
        "**Correlation for layer wise changes in roles of attention heads after fine tuning on XNLI (same task, across languages)**"
      ]
    },
    {
      "cell_type": "code",
      "metadata": {
        "colab": {
          "base_uri": "https://localhost:8080/"
        },
        "id": "6lZMNPWOr8He",
        "outputId": "07f45bea-57e5-427f-a8fd-ec825e316eac"
      },
      "source": [
        "#This cell computes pearson correlation between language pairs for the layer wise changes in the roles of attention heads (vectors of size 12*7=84, for each language)\n",
        "\n",
        "languages=['english','german','french','spanish','hindi','urdu']\n",
        "\n",
        "for i in range(len(languages)):\n",
        "  for j in range(i+1,len(languages)):\n",
        "    analysisPath1=analysisPath + 'XNLI/' + languages[i].title() + '/'\n",
        "    analysisPath2=analysisPath + 'XNLI/' + languages[j].title() + '/'\n",
        "    df1 = pd.read_csv(analysisPath1 + 'ChangeHeads' + languages[i].title() + 'XNLI.csv')\n",
        "    df2 = pd.read_csv(analysisPath2 + 'ChangeHeads' + languages[j].title() + 'XNLI.csv')\n",
        "    changes1=df1[df1['Language']==languages[i]]['Change'].to_numpy()\n",
        "    changes2=df2[df2['Language']==languages[j]]['Change'].to_numpy()\n",
        "    print(languages[i]+' '+languages[j]+' '+str(np.corrcoef(changes1,changes2)[0][1]))"
      ],
      "execution_count": null,
      "outputs": [
        {
          "output_type": "stream",
          "text": [
            "english german 0.939033847448931\n",
            "english french 0.9242883673428811\n",
            "english spanish 0.8504427156410519\n",
            "english hindi 0.8271727039378941\n",
            "english urdu 0.8261235225790278\n",
            "german french 0.9456402066632005\n",
            "german spanish 0.8252338509481432\n",
            "german hindi 0.8710442512572466\n",
            "german urdu 0.8237129276659232\n",
            "french spanish 0.8218508013831952\n",
            "french hindi 0.821358439883145\n",
            "french urdu 0.7650432313484428\n",
            "spanish hindi 0.7632902049486978\n",
            "spanish urdu 0.8851807557467357\n",
            "hindi urdu 0.8543013561912809\n"
          ],
          "name": "stdout"
        }
      ]
    },
    {
      "cell_type": "markdown",
      "metadata": {
        "id": "F_M5JeivC1oz"
      },
      "source": [
        "**Cross lingual correlation of layer wise changes in roles of attention heads (XNLI English)**"
      ]
    },
    {
      "cell_type": "code",
      "metadata": {
        "colab": {
          "base_uri": "https://localhost:8080/"
        },
        "id": "b6WPDYL_vNDa",
        "outputId": "a3d9adb4-6bc7-429a-b3ad-68dacecf9084"
      },
      "source": [
        "#This cell computes the correlation between language pairs for the layer wise changes in the roles of attention heads in the model fine tuned on XNLI English.\n",
        "\n",
        "languages=['english','german','french','spanish','hindi','urdu']\n",
        "\n",
        "df = pd.read_csv(analysisPath + 'XNLI/' + 'English/ChangeHeadsEnglishXNLI.csv')\n",
        "\n",
        "for i in range(len(languages)):\n",
        "  for j in range(i+1,len(languages)):\n",
        "    changes1=df[df['Language']==languages[i]]['Change'].to_numpy()\n",
        "    changes2=df[df['Language']==languages[j]]['Change'].to_numpy()\n",
        "    print(languages[i]+' '+languages[j]+' '+str(np.corrcoef(changes1,changes2)[0][1]))"
      ],
      "execution_count": null,
      "outputs": [
        {
          "output_type": "stream",
          "text": [
            "english german 0.96026004005805\n",
            "english french 0.9494778473549483\n",
            "english spanish 0.8962116016765874\n",
            "english hindi 0.8499236360477448\n",
            "english urdu 0.9130230606948193\n",
            "german french 0.9572348622826454\n",
            "german spanish 0.9111937922732398\n",
            "german hindi 0.8698491631133778\n",
            "german urdu 0.9291348026059664\n",
            "french spanish 0.8992169594672069\n",
            "french hindi 0.8400240101031926\n",
            "french urdu 0.8953029254159633\n",
            "spanish hindi 0.8824130732256049\n",
            "spanish urdu 0.9086031461215991\n",
            "hindi urdu 0.9038403453196652\n"
          ],
          "name": "stdout"
        }
      ]
    },
    {
      "cell_type": "markdown",
      "metadata": {
        "id": "7ocyFVd6rw5s"
      },
      "source": [
        "**Correlation for layer wise changes in roles of attention heads across tasks (same language - English)**"
      ]
    },
    {
      "cell_type": "code",
      "metadata": {
        "colab": {
          "base_uri": "https://localhost:8080/"
        },
        "id": "PomGjdLv5r5Q",
        "outputId": "67d07528-7860-4019-9ae6-25cc8ad27e17"
      },
      "source": [
        "#This cell computes the correlation between language pairs for the layer wise changes in the roles of attention heads across tasks.\n",
        "\n",
        "tasks=['NC','PAWSX','QADSM','QAM']\n",
        "\n",
        "for i in range(len(tasks)):\n",
        "  for j in range(i+1,len(tasks)):\n",
        "    analysisPath1=analysisPath + tasks[i] + '/English/'\n",
        "    analysisPath2=analysisPath + tasks[j] + '/English/'\n",
        "    df1 = pd.read_csv(analysisPath1 + 'ChangeHeadsEnglish' + tasks[i] + '.csv')\n",
        "    df2 = pd.read_csv(analysisPath2 + 'ChangeHeadsEnglish' + tasks[j] + '.csv')\n",
        "    changes1=df1[df1['Language']=='english']['Change'].to_numpy()\n",
        "    changes2=df2[df2['Language']=='english']['Change'].to_numpy()\n",
        "    print(tasks[i]+' '+tasks[j]+' '+str(np.corrcoef(changes1,changes2)[0][1]))"
      ],
      "execution_count": null,
      "outputs": [
        {
          "output_type": "stream",
          "text": [
            "NC PAWSX -0.06236370397438084\n",
            "NC QADSM 0.4565944627800461\n",
            "NC QAM 0.48728152568771266\n",
            "PAWSX QADSM -0.010675033897873009\n",
            "PAWSX QAM -0.10583418189458876\n",
            "QADSM QAM 0.7460496421876869\n"
          ],
          "name": "stdout"
        }
      ]
    },
    {
      "cell_type": "markdown",
      "metadata": {
        "id": "96FE8OKm5DEl"
      },
      "source": [
        "**Layer wise change in positional heads**"
      ]
    },
    {
      "cell_type": "code",
      "metadata": {
        "id": "hYu5KrQI5DdW",
        "colab": {
          "base_uri": "https://localhost:8080/"
        },
        "outputId": "d8544a00-ba67-4a41-d0d9-f9ac834ee531"
      },
      "source": [
        "#This cell persists the layer wise changes in positional roles after fine tuning.\n",
        "\n",
        "elements=[]\n",
        "headers=['Language','Role','Layers','PT','FT','Change']\n",
        "\n",
        "languages=['english']\n",
        "\n",
        "language='English'\n",
        "task='XNLI'\n",
        "\n",
        "for lang in languages:\n",
        "  for func in functionspos:\n",
        "    with open(ptweightsPath + lang + '-matrix-' + func + '-1000.pl', 'rb') as f:\n",
        "        headSentScorespt=pickle.load(f)\n",
        "    with open(ftweightsPath + lang.title() + '/' + lang + '-matrix-' + func + '-ft-1000.pl', 'rb') as f:\n",
        "        headSentScoresft=pickle.load(f)\n",
        "    print(lang,' ',func)\n",
        "    headspt=[]\n",
        "    headsft=[]\n",
        "    for p in range(1,145):\n",
        "      s=statistics.stdev(headSentScorespt[p])\n",
        "      m=statistics.mean(headSentScorespt[p])\n",
        "      t=(m-threshold)/(s/math.sqrt(n))\n",
        "      pval=stats.t.sf(t, n-1)\n",
        "      if(pval<0.05):\n",
        "        headspt.append(p)\n",
        "      s=statistics.stdev(headSentScoresft[p])\n",
        "      m=statistics.mean(headSentScoresft[p])\n",
        "      t=(m-threshold)/(s/math.sqrt(n))\n",
        "      pval=stats.t.sf(t, n-1)\n",
        "      if(pval<0.05):\n",
        "        headsft.append(p)\n",
        "    for l in range(1,13):\n",
        "      elements.append([lang,func,l,len([i for i in headspt if (i>(l-1)*12 and i<=l*12)]),len([i for i in headsft if (i>(l-1)*12 and i<=l*12)]),len([i for i in headsft if (i>(l-1)*12 and i<=l*12)]) - len([i for i in headspt if (i>(l-1)*12 and i<=l*12)])])\n",
        "\n",
        "df = pd.DataFrame(elements, columns=headers)\n",
        "print(df)\n",
        "#df.to_csv(analysisPath + 'ChangeHeads'+ language + task + '.csv')"
      ],
      "execution_count": 11,
      "outputs": [
        {
          "output_type": "stream",
          "text": [
            "english   cls\n",
            "english   sep\n",
            "english   local\n",
            "   Language   Role  Layers  PT  FT  Change\n",
            "0   english    cls       1   4   5       1\n",
            "1   english    cls       2  10  10       0\n",
            "2   english    cls       3  12  12       0\n",
            "3   english    cls       4  10  11       1\n",
            "4   english    cls       5  12  12       0\n",
            "5   english    cls       6   2   4       2\n",
            "6   english    cls       7   2  12      10\n",
            "7   english    cls       8   2  12      10\n",
            "8   english    cls       9   3  12       9\n",
            "9   english    cls      10   8  12       4\n",
            "10  english    cls      11   5  12       7\n",
            "11  english    cls      12   4  11       7\n",
            "12  english    sep       1   1   1       0\n",
            "13  english    sep       2   1   1       0\n",
            "14  english    sep       3   2   0      -2\n",
            "15  english    sep       4   1   1       0\n",
            "16  english    sep       5   0   0       0\n",
            "17  english    sep       6   1   1       0\n",
            "18  english    sep       7   2   0      -2\n",
            "19  english    sep       8   7   0      -7\n",
            "20  english    sep       9   7   0      -7\n",
            "21  english    sep      10   3   0      -3\n",
            "22  english    sep      11   0   2       2\n",
            "23  english    sep      12   3   7       4\n",
            "24  english  local       1   2   2       0\n",
            "25  english  local       2   2   1      -1\n",
            "26  english  local       3   3   3       0\n",
            "27  english  local       4   3   4       1\n",
            "28  english  local       5   1   0      -1\n",
            "29  english  local       6   7   6      -1\n",
            "30  english  local       7   9   3      -6\n",
            "31  english  local       8   3   0      -3\n",
            "32  english  local       9   2   1      -1\n",
            "33  english  local      10   4   0      -4\n",
            "34  english  local      11   7   0      -7\n",
            "35  english  local      12   6   5      -1\n"
          ],
          "name": "stdout"
        }
      ]
    },
    {
      "cell_type": "markdown",
      "metadata": {
        "id": "SHjxrFdM5HV1"
      },
      "source": [
        "**Layer wise changes in syntactic non-positional heads**"
      ]
    },
    {
      "cell_type": "code",
      "metadata": {
        "id": "DsqjhNBG5Hpc",
        "colab": {
          "base_uri": "https://localhost:8080/"
        },
        "outputId": "1d452c16-b790-4062-c814-26137031063f"
      },
      "source": [
        "#This cell persists the layer wise changes in syntactic non-positional roles after fine tuning.\n",
        "\n",
        "elements=[]\n",
        "headers=['Language','Role','Layers','PT','FT','Change']\n",
        "\n",
        "language='English'\n",
        "task='XNLI'\n",
        "\n",
        "languages=['english']\n",
        "\n",
        "for lang in languages:\n",
        "  headsptpos=set()\n",
        "  headsftpos=set()\n",
        "  headsptsyn=set()\n",
        "  headsftsyn=set()\n",
        "  for func in functionspos:\n",
        "    with open(ptweightsPath + lang + '-matrix-' + func + '-1000.pl', 'rb') as f:\n",
        "        headSentScorespt=pickle.load(f)\n",
        "    with open(ftweightsPath + lang.title() + '/' + lang + '-matrix-' + func + '-ft-1000.pl', 'rb') as f:\n",
        "        headSentScoresft=pickle.load(f)\n",
        "    print(lang,' ',func)\n",
        "    for p in range(1,145):\n",
        "      s=statistics.stdev(headSentScorespt[p])\n",
        "      m=statistics.mean(headSentScorespt[p])\n",
        "      t=(m-threshold)/(s/math.sqrt(n))\n",
        "      pval=stats.t.sf(t, n-1)\n",
        "      if(pval<0.05):\n",
        "        headsptpos.add(p)\n",
        "      s=statistics.stdev(headSentScoresft[p])\n",
        "      m=statistics.mean(headSentScoresft[p])\n",
        "      t=(m-threshold)/(s/math.sqrt(n))\n",
        "      pval=stats.t.sf(t, n-1)\n",
        "      if(pval<0.05):\n",
        "        headsftpos.add(p)\n",
        "\n",
        "  for func in functionssyn:\n",
        "    with open(ptweightsPath + lang + '-matrix-' + func + '-1000.pl', 'rb') as f:\n",
        "        headSentScorespt=pickle.load(f)\n",
        "    with open(ftweightsPath + lang.title() + '/' + lang + '-matrix-' + func + '-ft-1000.pl', 'rb') as f:\n",
        "        headSentScoresft=pickle.load(f)\n",
        "    print(lang,' ',func)\n",
        "    for p in range(1,145):\n",
        "      s=statistics.stdev(headSentScorespt[p])\n",
        "      m=statistics.mean(headSentScorespt[p])\n",
        "      t=(m-threshold)/(s/math.sqrt(n))\n",
        "      pval=stats.t.sf(t, n-1)\n",
        "      if(pval<0.05):\n",
        "        if(p not in headsptpos):\n",
        "          headsptsyn.add(p)\n",
        "      s=statistics.stdev(headSentScoresft[p])\n",
        "      m=statistics.mean(headSentScoresft[p])\n",
        "      t=(m-threshold)/(s/math.sqrt(n))\n",
        "      pval=stats.t.sf(t, n-1)\n",
        "      if(pval<0.05):\n",
        "        if(p not in headsftpos):\n",
        "          headsftsyn.add(p)\n",
        "     \n",
        "  for l in range(1,13):\n",
        "    elements.append([lang,'syntactic',l,len([i for i in headsptsyn if (i>(l-1)*12 and i<=l*12)]),len([i for i in headsftsyn if (i>(l-1)*12 and i<=l*12)]),len([i for i in headsftsyn if (i>(l-1)*12 and i<=l*12)]) - len([i for i in headsptsyn if (i>(l-1)*12 and i<=l*12)])])\n",
        "\n",
        "df = pd.DataFrame(elements, columns=headers)\n",
        "print(df)\n",
        "#df.to_csv(analysisPath + 'ChangeHeadsSyntactic'+ language + task + '.csv')"
      ],
      "execution_count": 13,
      "outputs": [
        {
          "output_type": "stream",
          "text": [
            "english   cls\n",
            "english   sep\n",
            "english   local\n",
            "english   nsubj\n",
            "english   amod\n",
            "english   advmod\n",
            "english   obj\n",
            "   Language       Role  Layers  PT  FT  Change\n",
            "0   english  syntactic       1   1   1       0\n",
            "1   english  syntactic       2   0   0       0\n",
            "2   english  syntactic       3   0   0       0\n",
            "3   english  syntactic       4   0   0       0\n",
            "4   english  syntactic       5   0   0       0\n",
            "5   english  syntactic       6   1   2       1\n",
            "6   english  syntactic       7   2   0      -2\n",
            "7   english  syntactic       8   2   0      -2\n",
            "8   english  syntactic       9   2   0      -2\n",
            "9   english  syntactic      10   1   0      -1\n",
            "10  english  syntactic      11   0   0       0\n",
            "11  english  syntactic      12   1   0      -1\n"
          ],
          "name": "stdout"
        }
      ]
    },
    {
      "cell_type": "markdown",
      "metadata": {
        "id": "UFzqiQbEiXOX"
      },
      "source": [
        "**Plot for change in heads for each functional role(same task - XNLI)**"
      ]
    },
    {
      "cell_type": "code",
      "metadata": {
        "colab": {
          "base_uri": "https://localhost:8080/",
          "height": 416
        },
        "id": "8_cDZ_-4idyx",
        "outputId": "e73c11b8-06be-4dc5-b3e3-dcdaa313d064"
      },
      "source": [
        "#This cell plots the layer wise changes in number of heads for each functional role across the pivot languages after fine tuning on XNLI.\n",
        "\n",
        "name={}\n",
        "name['cls']='CLS'\n",
        "name['sep']='SEP'\n",
        "name['local']='Local'\n",
        "name['syntactic']='Syntactic and not Positional'\n",
        "\n",
        "funcs=['cls','sep','local']\n",
        "\n",
        "languages=['english','german','french','spanish','hindi','urdu']\n",
        "\n",
        "plt.rcParams[\"font.family\"] = \"Times New Roman\"\n",
        "\n",
        "fig, ax = plt.subplots(nrows=2, ncols=2, figsize=(10,5))\n",
        "\n",
        "plt.subplots_adjust(hspace=0.3)\n",
        "\n",
        "for count,func in enumerate(funcs):\n",
        "  axplot=ax[int(count/2)][count%2]\n",
        "  for i in range(len(languages)):\n",
        "      ftanalysisPath=analysisPath + 'XNLI/' + languages[i].title() + '/'\n",
        "      df = pd.read_csv(ftanalysisPath + 'ChangeHeads' + languages[i].title() + 'XNLI.csv')\n",
        "      changes=df[(df.Language==languages[i]) & (df.Role==func)]['Change'].to_numpy()\n",
        "      axplot.plot(np.arange(1,13),changes,label=languages[i].title(),marker='o')\n",
        "      axplot.spines['top'].set_visible(False)\n",
        "      axplot.spines['right'].set_visible(False)\n",
        "      \n",
        "  axplot.tick_params(labelsize=12)   \n",
        "  axplot.set_xticks(np.arange(2,13,2))\n",
        "  axplot.set_yticks(np.arange(-12,13,6))\n",
        "  axplot.set_title(name[func],{'fontsize':15})\n",
        "  #axplot.set_xlabel('Layer number',{'fontsize':13})   \n",
        "  #axplot.grid()\n",
        "\n",
        "funcs=['syntactic']\n",
        "\n",
        "languages=['english','german','french','spanish','hindi','urdu']\n",
        "\n",
        "axplot=ax[int((count+1)/2)][(count+1)%2]\n",
        "\n",
        "for func in funcs:\n",
        "  for i in range(len(languages)):\n",
        "      ftanalysisPath=analysisPath + 'XNLI/' + languages[i].title() + '/'\n",
        "      df = pd.read_csv(ftanalysisPath + 'ChangeHeadsSyntactic' + languages[i].title() + 'XNLI.csv')\n",
        "      changes=df[(df.Language==languages[i]) & (df.Role==func)]['Change'].to_numpy()\n",
        "      axplot.plot(np.arange(1,13),changes,label=languages[i].title(),marker='o')\n",
        "      axplot.spines['top'].set_visible(False)\n",
        "      axplot.spines['right'].set_visible(False)\n",
        "      \n",
        "  axplot.tick_params(labelsize=12)   \n",
        "  axplot.set_xticks(np.arange(2,13,2))\n",
        "  axplot.set_yticks(np.arange(-12,13,6))\n",
        "  axplot.set_title(name[func],{'fontsize':15})  \n",
        "  #axplot.set_xlabel('Layer number',{'fontsize':13})     \n",
        "  #axplot.grid()\n",
        "\n",
        "handles, labels = axplot.get_legend_handles_labels()\n",
        "fig.legend(handles, labels, loc='lower center',fontsize='large',ncol=6,bbox_to_anchor=(0.45, -0.015))\n",
        "fig.text(0.05, 0.5,'Change in the number of heads', {'fontsize':13}, va='center', rotation='vertical')\n",
        "fig.text(0.5, 0.053, 'Layer number', {'fontsize':13}, ha='center')\n",
        "\n",
        "fig.show()\n",
        "#fig.savefig(analysisPath + 'Plots/FineTunedXNLI/' + 'All' + '.pdf', dpi=1200, format='pdf',bbox_inches = \"tight\")"
      ],
      "execution_count": null,
      "outputs": [
        {
          "output_type": "stream",
          "text": [
            "findfont: Font family ['Times New Roman'] not found. Falling back to DejaVu Sans.\n",
            "findfont: Font family ['Times New Roman'] not found. Falling back to DejaVu Sans.\n",
            "findfont: Font family ['Times New Roman'] not found. Falling back to DejaVu Sans.\n"
          ],
          "name": "stderr"
        },
        {
          "output_type": "display_data",
          "data": {
            "image/png": "[encoded data removed]",
            "text/plain": [
              "<Figure size 720x360 with 4 Axes>"
            ]
          },
          "metadata": {
            "tags": [],
            "needs_background": "light"
          }
        }
      ]
    },
    {
      "cell_type": "markdown",
      "metadata": {
        "id": "mRSeMgKjY1JQ"
      },
      "source": [
        "**Plot for change in heads for each functional role(same task - XNLI English, Cross lingual)**"
      ]
    },
    {
      "cell_type": "code",
      "metadata": {
        "colab": {
          "base_uri": "https://localhost:8080/",
          "height": 365
        },
        "id": "ztQQWfXLY6Ry",
        "outputId": "a7a2c08f-4e4e-4aba-923b-39092c0f2569"
      },
      "source": [
        "#This cell plots the layer wise changes in number of heads for each functional role across the languages after fine tuning on XNLI English.\n",
        "\n",
        "funcs=['cls','sep','local']\n",
        "\n",
        "languages=['english','german','french','spanish','hindi','urdu']\n",
        "\n",
        "name={}\n",
        "name['cls']='CLS'\n",
        "name['sep']='SEP'\n",
        "name['local']='Local'\n",
        "name['syntactic']='Syntactic and not Positional'\n",
        "\n",
        "plt.rcParams[\"font.family\"] = \"Times New Roman\"\n",
        "\n",
        "ftanalysisPath=analysisPath + 'XNLI/English/'\n",
        "df = pd.read_csv(ftanalysisPath + 'ChangeHeadsEnglishXNLI.csv')\n",
        "\n",
        "fig, ax = plt.subplots(nrows=2, ncols=2, figsize=(10,5))\n",
        "\n",
        "plt.subplots_adjust(hspace=0.3)\n",
        "\n",
        "for count,func in enumerate(funcs):\n",
        "  axplot=ax[int(count/2)][count%2]\n",
        "  for i in range(len(languages)):\n",
        "      changes=df[(df.Language==languages[i]) & (df.Role==func)]['Change'].to_numpy()\n",
        "      axplot.plot(np.arange(1,13),changes,label=languages[i].title(),marker='o')\n",
        "      axplot.spines['top'].set_visible(False)\n",
        "      axplot.spines['right'].set_visible(False)\n",
        "\n",
        "  axplot.tick_params(labelsize=12)   \n",
        "  axplot.set_xticks(np.arange(2,13,2))\n",
        "  axplot.set_yticks(np.arange(-12,13,6))\n",
        "  axplot.set_title(name[func],{'fontsize':15})\n",
        "  #axplot.set_xlabel('Layer number',{'fontsize':15})    \n",
        "  #axplot.grid()\n",
        "\n",
        "func='syntactic'\n",
        "\n",
        "ftanalysisPath=analysisPath + 'XNLI/English/'\n",
        "df = pd.read_csv(ftanalysisPath + 'ChangeHeadsSyntacticEnglishXNLI.csv')\n",
        "\n",
        "axplot=ax[int((count+1)/2)][(count+1)%2]\n",
        "\n",
        "for i in range(len(languages)):\n",
        "  changes=df[(df.Language==languages[i]) & (df.Role==func)]['Change'].to_numpy()\n",
        "  axplot.plot(np.arange(1,13),changes,label=languages[i].title(),marker='o')\n",
        "  axplot.spines['top'].set_visible(False)\n",
        "  axplot.spines['right'].set_visible(False)\n",
        "\n",
        "axplot.tick_params(labelsize=12)   \n",
        "axplot.set_xticks(np.arange(2,13,2))\n",
        "axplot.set_yticks(np.arange(-12,13,6))\n",
        "axplot.set_title(name[func],{'fontsize':15})    \n",
        "#axplot.set_xlabel('Layer number',{'fontsize':15})  \n",
        "#axplot.grid()\n",
        "\n",
        "handles, labels = axplot.get_legend_handles_labels()\n",
        "fig.legend(handles, labels, loc='lower center',fontsize='large',ncol=6,bbox_to_anchor=(0.45, -0.015))\n",
        "fig.text(0.05, 0.5,'Change in the number of heads', {'fontsize':13}, va='center', rotation='vertical')\n",
        "fig.text(0.5, 0.053, 'Layer number', {'fontsize':13}, ha='center')\n",
        "fig.show()\n",
        "#fig.savefig(analysisPath + 'Plots/CrossLingualXNLI/' + 'All' + '.pdf', dpi=1200, format='pdf',bbox_inches = \"tight\")"
      ],
      "execution_count": null,
      "outputs": [
        {
          "output_type": "display_data",
          "data": {
            "image/png": "[encoded data removed]",
            "text/plain": [
              "<Figure size 720x360 with 4 Axes>"
            ]
          },
          "metadata": {
            "tags": [],
            "needs_background": "light"
          }
        }
      ]
    },
    {
      "cell_type": "markdown",
      "metadata": {
        "id": "OPRGbP_x5j0s"
      },
      "source": [
        "**Plot for change in heads for each functional role (same language - English)**"
      ]
    },
    {
      "cell_type": "code",
      "metadata": {
        "colab": {
          "base_uri": "https://localhost:8080/",
          "height": 365
        },
        "id": "_ZcBzRT_5qqa",
        "outputId": "05e28c78-31b0-4cf1-b846-2e8b9ffe18db"
      },
      "source": [
        "#This cell plots the layer wise changes in number of heads for each functional role in English after fine tuning on different tasks.\n",
        "\n",
        "funcs=['cls','sep','local']\n",
        "\n",
        "tasks=['NC','PAWSX','QADSM','QAM']\n",
        "\n",
        "name={}\n",
        "name['cls']='CLS'\n",
        "name['sep']='SEP'\n",
        "name['local']='Local'\n",
        "name['syntactic']='Syntactic and not Positional'\n",
        "\n",
        "fig, ax = plt.subplots(nrows=2, ncols=2, figsize=(10,5))\n",
        "\n",
        "plt.subplots_adjust(hspace=0.3)\n",
        "\n",
        "for count,func in enumerate(funcs):\n",
        "  axplot=ax[int(count/2)][count%2]\n",
        "  for i in range(len(tasks)):\n",
        "      ftanalysisPath=analysisPath + tasks[i] + '/English/'\n",
        "      df = pd.read_csv(ftanalysisPath + 'ChangeHeadsEnglish' + tasks[i] + '.csv')\n",
        "      changes=df[(df.Language=='english') & (df.Role==func)]['Change'].to_numpy()\n",
        "      axplot.plot(np.arange(1,13),changes,label=tasks[i].title(),marker='o')\n",
        "      axplot.spines['top'].set_visible(False)\n",
        "      axplot.spines['right'].set_visible(False)\n",
        "      \n",
        "  axplot.tick_params(labelsize=12)   \n",
        "  axplot.set_xticks(np.arange(2,13,2))\n",
        "  axplot.set_yticks(np.arange(-12,13,6))\n",
        "  axplot.set_title(name[func],{'fontsize':15})\n",
        "  #axplot.set_xlabel('Layer number',{'fontsize':15})    \n",
        "  #axplot.grid()\n",
        "\n",
        "funcs=['syntactic']\n",
        "\n",
        "tasks=['NC','PAWSX','QADSM','QAM']\n",
        "\n",
        "axplot=ax[int((count+1)/2)][(count+1)%2]\n",
        "\n",
        "for func in funcs:\n",
        "  for i in range(len(tasks)):\n",
        "      ftanalysisPath=analysisPath + tasks[i] + '/English/'\n",
        "      df = pd.read_csv(ftanalysisPath + 'ChangeHeadsSyntacticEnglish' + tasks[i] + '.csv')\n",
        "      changes=df[(df.Language=='english') & (df.Role==func)]['Change'].to_numpy()\n",
        "      axplot.plot(np.arange(1,13),changes,label=tasks[i],marker='o')\n",
        "      \n",
        "  axplot.tick_params(labelsize=12)   \n",
        "  axplot.set_xticks(np.arange(2,13,2))\n",
        "  axplot.set_yticks(np.arange(-12,13,6))\n",
        "  axplot.set_title(name[func],{'fontsize':15})    \n",
        "  axplot.spines['top'].set_visible(False)\n",
        "  axplot.spines['right'].set_visible(False)\n",
        "  #axplot.set_xlabel('Layer number',{'fontsize':13})  \n",
        "  #axplot.grid()\n",
        "\n",
        "handles, labels = axplot.get_legend_handles_labels()\n",
        "fig.legend(handles, labels, loc='lower center',fontsize='large',ncol=6,bbox_to_anchor=(0.45, -0.015))\n",
        "fig.text(0.05, 0.5,'Change in the number of heads', {'fontsize':13}, va='center', rotation='vertical')\n",
        "fig.text(0.5, 0.053, 'Layer number', {'fontsize':13}, ha='center')\n",
        "fig.show()\n",
        "#fig.savefig(analysisPath + 'Plots/FineTunedEnglish/' + 'All' + '.pdf', dpi=1200, format='pdf',bbox_inches = \"tight\")"
      ],
      "execution_count": null,
      "outputs": [
        {
          "output_type": "display_data",
          "data": {
            "image/png": "[encoded data removed]",
            "text/plain": [
              "<Figure size 720x360 with 4 Axes>"
            ]
          },
          "metadata": {
            "tags": [],
            "needs_background": "light"
          }
        }
      ]
    },
    {
      "cell_type": "markdown",
      "metadata": {
        "id": "9oDzuxixBGeP"
      },
      "source": [
        "**Common positional heads across languages in the pretrained model**"
      ]
    },
    {
      "cell_type": "code",
      "metadata": {
        "colab": {
          "base_uri": "https://localhost:8080/"
        },
        "id": "mLgVfMItBHlR",
        "outputId": "71aacff7-7094-4b96-cb97-f4bea631db5a"
      },
      "source": [
        "languages=['hindi','urdu']\n",
        "\n",
        "languages=['english','german','french','spanish','hindi','urdu']\n",
        "\n",
        "functions=['cls','sep','local']\n",
        "\n",
        "avg=0\n",
        "\n",
        "common=set()\n",
        "\n",
        "for i in range(len(languages)):\n",
        "  posHeads=set()\n",
        "  for k in functions:\n",
        "    with open(ptweightsPath + languages[i]+ '-matrix-' + k + '-1000.pl', 'rb') as f:\n",
        "        headSentScores=pickle.load(f)\n",
        "\n",
        "    heads=[]\n",
        "    for p in range(1,145):\n",
        "        s=statistics.stdev(headSentScores[p])\n",
        "        m=statistics.mean(headSentScores[p])\n",
        "        t=(m-threshold)/(s/math.sqrt(n))\n",
        "        pval=stats.t.sf(t, n-1)\n",
        "        if(pval<0.05):\n",
        "          heads.append(p)\n",
        "\n",
        "    if (len(posHeads)==0):\n",
        "      posHeads.update(heads)\n",
        "    else:\n",
        "      posHeads=posHeads.union(set(heads))\n",
        "\n",
        "  avg+=len(posHeads)\n",
        "  \n",
        "  if (i==0):\n",
        "    common.update(posHeads)\n",
        "  else:\n",
        "    common=common.intersection(posHeads)\n",
        "\n",
        "print(sorted(common))\n",
        "print(len(common))\n",
        "print(round(avg/len(languages)))"
      ],
      "execution_count": null,
      "outputs": [
        {
          "output_type": "stream",
          "text": [
            "[1, 6, 7, 8, 9, 10, 13, 14, 15, 16, 17, 18, 19, 20, 21, 22, 23, 24, 25, 26, 27, 28, 29, 30, 31, 32, 33, 34, 35, 36, 37, 38, 39, 40, 41, 42, 43, 44, 45, 46, 47, 48, 49, 50, 51, 52, 53, 54, 55, 56, 57, 58, 59, 60, 62, 64, 65, 69, 70, 71, 73, 74, 75, 78, 80, 81, 82, 83, 84, 85, 86, 89, 92, 93, 94, 96, 97, 98, 101, 102, 104, 105, 108, 109, 110, 112, 115, 116, 117, 118, 119, 121, 123, 124, 125, 126, 127, 130, 131, 132, 133, 134, 136, 138, 139, 140, 141, 143, 144]\n",
            "109\n",
            "125\n"
          ],
          "name": "stdout"
        }
      ]
    },
    {
      "cell_type": "markdown",
      "metadata": {
        "id": "7uu68aQJBf5H"
      },
      "source": [
        "**Common unskilled heads across languages in the pretrained model**"
      ]
    },
    {
      "cell_type": "code",
      "metadata": {
        "colab": {
          "base_uri": "https://localhost:8080/"
        },
        "id": "AvASNl7VBgXU",
        "outputId": "ee205d92-b843-43ab-8aca-7ff432408d64"
      },
      "source": [
        "languages=['english','german','french','spanish','hindi','urdu']\n",
        "\n",
        "functions=['cls','sep','local','nsubj','amod','advmod','obj']\n",
        "\n",
        "avg=0\n",
        "\n",
        "common=set()\n",
        "\n",
        "for i in range(len(languages)):\n",
        "  synHeads=set()\n",
        "  for k in functions:\n",
        "    with open(ptweightsPath + languages[i]+ '-matrix-' + k + '-1000.pl', 'rb') as f:\n",
        "        headSentScores=pickle.load(f)\n",
        "\n",
        "    heads=[]\n",
        "    for p in range(1,145):\n",
        "        s=statistics.stdev(headSentScores[p])\n",
        "        m=statistics.mean(headSentScores[p])\n",
        "        t=(m-threshold)/(s/math.sqrt(n))\n",
        "        pval=stats.t.sf(t, n-1)\n",
        "        if(pval<0.05):\n",
        "          heads.append(p)\n",
        "\n",
        "    if (len(synHeads)==0):\n",
        "      synHeads.update(heads)\n",
        "    else:\n",
        "      synHeads=synHeads.union(set(heads))\n",
        "\n",
        "  unskilledHeads=set(np.arange(1,145))-set(synHeads)\n",
        "  avg+=len(unskilledHeads)\n",
        "  \n",
        "  if (i==0):\n",
        "    common.update(unskilledHeads)\n",
        "  else:\n",
        "    common=common.intersection(unskilledHeads)\n",
        "\n",
        "print(sorted(common))\n",
        "print(len(common))\n",
        "print(round(avg/len(languages)))"
      ],
      "execution_count": null,
      "outputs": [
        {
          "output_type": "stream",
          "text": [
            "[3, 11, 12, 87, 106, 129]\n",
            "6\n",
            "14\n"
          ],
          "name": "stdout"
        }
      ]
    },
    {
      "cell_type": "markdown",
      "metadata": {
        "id": "wN5FWMXcBmbv"
      },
      "source": [
        "**Common syntactic non positional heads across languages in the pretrained model**"
      ]
    },
    {
      "cell_type": "code",
      "metadata": {
        "colab": {
          "base_uri": "https://localhost:8080/"
        },
        "id": "SdAAjw66BmzM",
        "outputId": "67b48ff1-ccf1-4c85-c6c1-4b9b3147b4ee"
      },
      "source": [
        "languages=['english','german','french','spanish','hindi','urdu']\n",
        "\n",
        "functionspos=['cls','sep','local']\n",
        "\n",
        "functionssyn=['nsubj','amod','advmod','obj']\n",
        "\n",
        "avg=0\n",
        "\n",
        "common=set()\n",
        "\n",
        "for i in range(len(languages)):\n",
        "  posHeads=set()\n",
        "  for k in functionspos:\n",
        "    with open(ptweightsPath + languages[i]+ '-matrix-' + k + '-1000.pl', 'rb') as f:\n",
        "        headSentScores=pickle.load(f)\n",
        "\n",
        "    heads=[]\n",
        "    for p in range(1,145):\n",
        "        s=statistics.stdev(headSentScores[p])\n",
        "        m=statistics.mean(headSentScores[p])\n",
        "        t=(m-threshold)/(s/math.sqrt(n))\n",
        "        pval=stats.t.sf(t, n-1)\n",
        "        if(pval<0.05):\n",
        "          heads.append(p)\n",
        "\n",
        "    if (len(posHeads)==0):\n",
        "      posHeads.update(heads)\n",
        "    else:\n",
        "      posHeads=posHeads.union(set(heads))\n",
        "\n",
        "  synHeads=set()\n",
        "  for k in functionssyn:\n",
        "    with open(ptweightsPath + languages[i]+ '-matrix-' + k + '-1000.pl', 'rb') as f:\n",
        "        headSentScores=pickle.load(f)\n",
        "\n",
        "    heads=[]\n",
        "    for p in range(1,145):\n",
        "        s=statistics.stdev(headSentScores[p])\n",
        "        m=statistics.mean(headSentScores[p])\n",
        "        t=(m-threshold)/(s/math.sqrt(n))\n",
        "        pval=stats.t.sf(t, n-1)\n",
        "        if(pval<0.05):\n",
        "          if(p not in posHeads):\n",
        "            heads.append(p)\n",
        "\n",
        "    if (len(synHeads)==0):\n",
        "      synHeads.update(heads)\n",
        "    else:\n",
        "      synHeads=synHeads.union(set(heads))\n",
        "\n",
        "  avg+=len(synHeads)\n",
        "  \n",
        "  if (i==0):\n",
        "    common.update(synHeads)\n",
        "  else:\n",
        "    common=common.intersection(synHeads)\n",
        "\n",
        "print(sorted(common))\n",
        "print(len(common))\n",
        "print(round(avg/len(languages)))"
      ],
      "execution_count": null,
      "outputs": [
        {
          "output_type": "stream",
          "text": [
            "[]\n",
            "0\n",
            "5\n"
          ],
          "name": "stdout"
        }
      ]
    },
    {
      "cell_type": "markdown",
      "metadata": {
        "id": "efX0Pq-WCnjC"
      },
      "source": [
        "**Common positional heads across languages in the FT models on XNLI**"
      ]
    },
    {
      "cell_type": "code",
      "metadata": {
        "colab": {
          "base_uri": "https://localhost:8080/"
        },
        "id": "M5ytZZezCoA9",
        "outputId": "cf668f75-245e-4ed5-8670-3138123fd530"
      },
      "source": [
        "languages=['english','german','french','spanish','hindi','urdu']\n",
        "\n",
        "functions=['cls','sep','local']\n",
        "\n",
        "avg=0\n",
        "\n",
        "threshold=3\n",
        "\n",
        "common=set()\n",
        "\n",
        "for i in range(len(languages)):\n",
        "  synHeads=set()\n",
        "  for k in functions:\n",
        "    with open(ftweightsPath + languages[i].title()+ '/' + languages[i] + '-matrix-' + k + '-ft-1000.pl', 'rb') as f:\n",
        "        headSentScores=pickle.load(f)\n",
        "\n",
        "    heads=[]\n",
        "    for p in range(1,145):\n",
        "        s=statistics.stdev(headSentScores[p])\n",
        "        m=statistics.mean(headSentScores[p])\n",
        "        t=(m-threshold)/(s/math.sqrt(n))\n",
        "        pval=stats.t.sf(t, n-1)\n",
        "        if(pval<0.05):\n",
        "          heads.append(p)\n",
        "\n",
        "    if (len(synHeads)==0):\n",
        "      synHeads.update(heads)\n",
        "    else:\n",
        "      synHeads=synHeads.union(set(heads))\n",
        "\n",
        "  avg+=len(synHeads)\n",
        "  \n",
        "  if (i==0):\n",
        "    common.update(synHeads)\n",
        "  else:\n",
        "    common=common.intersection(synHeads)\n",
        "\n",
        "print(sorted(common))\n",
        "print(len(common))\n",
        "print(round(avg/len(languages)))"
      ],
      "execution_count": null,
      "outputs": [
        {
          "output_type": "stream",
          "text": [
            "[1, 2, 6, 7, 8, 9, 10, 13, 14, 15, 16, 17, 18, 19, 20, 21, 22, 23, 24, 25, 26, 27, 28, 29, 30, 31, 32, 33, 34, 35, 36, 37, 38, 39, 40, 41, 42, 43, 44, 45, 46, 47, 48, 49, 50, 51, 52, 53, 54, 55, 56, 57, 58, 59, 60, 62, 64, 65, 69, 70, 71, 73, 74, 75, 76, 77, 78, 79, 80, 81, 82, 83, 84, 85, 86, 87, 88, 89, 90, 91, 92, 93, 94, 95, 96, 97, 98, 99, 100, 101, 102, 103, 104, 105, 106, 107, 108, 109, 110, 111, 112, 113, 114, 115, 116, 117, 118, 119, 120, 121, 122, 123, 124, 125, 126, 127, 128, 129, 130, 131, 132, 133, 134, 135, 136, 137, 138, 139, 140, 141, 142, 143, 144]\n",
            "133\n",
            "137\n"
          ],
          "name": "stdout"
        }
      ]
    },
    {
      "cell_type": "markdown",
      "metadata": {
        "id": "deRTTuHMCsYi"
      },
      "source": [
        "**Common unskilled heads across languages in the FT models on XNLI**"
      ]
    },
    {
      "cell_type": "code",
      "metadata": {
        "colab": {
          "base_uri": "https://localhost:8080/"
        },
        "id": "9f8_0uJoCsvb",
        "outputId": "835fdeb4-9608-4813-b62d-e1b2efdcc9b0"
      },
      "source": [
        "languages=['english','german','french','spanish','hindi','urdu']\n",
        "\n",
        "functions=['cls','sep','local','nsubj','amod','advmod','obj']\n",
        "\n",
        "avg=0\n",
        "\n",
        "common=set()\n",
        "\n",
        "for i in range(len(languages)):\n",
        "  synHeads=set()\n",
        "  for k in functions:\n",
        "    with open(ftweightsPath + languages[i].title()+ '/' + languages[i] + '-matrix-' + k + '-ft-1000.pl', 'rb') as f:\n",
        "        headSentScores=pickle.load(f)\n",
        "\n",
        "    heads=[]\n",
        "    for p in range(1,145):\n",
        "        s=statistics.stdev(headSentScores[p])\n",
        "        m=statistics.mean(headSentScores[p])\n",
        "        t=(m-threshold)/(s/math.sqrt(n))\n",
        "        pval=stats.t.sf(t, n-1)\n",
        "        if(pval<0.05):\n",
        "          heads.append(p)\n",
        "\n",
        "    if (len(synHeads)==0):\n",
        "      synHeads.update(heads)\n",
        "    else:\n",
        "      synHeads=synHeads.union(set(heads))\n",
        "\n",
        "  unskilledHeads=set(np.arange(1,145))-set(synHeads)\n",
        "  avg+=len(unskilledHeads)\n",
        "  \n",
        "  if (i==0):\n",
        "    common.update(unskilledHeads)\n",
        "  else:\n",
        "    common=common.intersection(unskilledHeads)\n",
        "\n",
        "print(sorted(common))\n",
        "print(len(common))\n",
        "print(round(avg/len(languages)))"
      ],
      "execution_count": null,
      "outputs": [
        {
          "output_type": "stream",
          "text": [
            "[3, 11, 12]\n",
            "3\n",
            "6\n"
          ],
          "name": "stdout"
        }
      ]
    },
    {
      "cell_type": "markdown",
      "metadata": {
        "id": "9js2uRPrCyhk"
      },
      "source": [
        "**Common syntactic non positional heads across languages in the FT models on XNLI**"
      ]
    },
    {
      "cell_type": "code",
      "metadata": {
        "colab": {
          "base_uri": "https://localhost:8080/"
        },
        "id": "VCYL77wsCy5s",
        "outputId": "527d00d2-38d0-4284-a041-0e583b404f00"
      },
      "source": [
        "languages=['english','german','french','spanish','hindi','urdu']\n",
        "\n",
        "functionspos=['cls','sep','local']\n",
        "\n",
        "functionssyn=['nsubj','amod','advmod','obj']\n",
        "\n",
        "avg=0\n",
        "\n",
        "common=set()\n",
        "\n",
        "for i in range(len(languages)):\n",
        "  posHeads=set()\n",
        "  for k in functionspos:\n",
        "    with open(ftweightsPath + languages[i].title()+ '/' + languages[i] + '-matrix-' + k + '-ft-1000.pl', 'rb') as f:\n",
        "        headSentScores=pickle.load(f)\n",
        "\n",
        "    heads=[]\n",
        "    for p in range(1,145):\n",
        "        s=statistics.stdev(headSentScores[p])\n",
        "        m=statistics.mean(headSentScores[p])\n",
        "        t=(m-threshold)/(s/math.sqrt(n))\n",
        "        pval=stats.t.sf(t, n-1)\n",
        "        if(pval<0.05):\n",
        "          heads.append(p)\n",
        "\n",
        "    if (len(posHeads)==0):\n",
        "      posHeads.update(heads)\n",
        "    else:\n",
        "      posHeads=posHeads.union(set(heads))\n",
        "\n",
        "  synHeads=set()\n",
        "  for k in functionssyn:\n",
        "    with open(ftweightsPath + languages[i].title()+ '/' + languages[i] + '-matrix-' + k + '-ft-1000.pl', 'rb') as f:\n",
        "        headSentScores=pickle.load(f)\n",
        "\n",
        "    heads=[]\n",
        "    for p in range(1,145):\n",
        "        s=statistics.stdev(headSentScores[p])\n",
        "        m=statistics.mean(headSentScores[p])\n",
        "        t=(m-threshold)/(s/math.sqrt(n))\n",
        "        pval=stats.t.sf(t, n-1)\n",
        "        if(pval<0.05):\n",
        "          if(p not in posHeads):\n",
        "            heads.append(p)\n",
        "\n",
        "    if (len(synHeads)==0):\n",
        "      synHeads.update(heads)\n",
        "    else:\n",
        "      synHeads=synHeads.union(set(heads))\n",
        "\n",
        "  avg+=len(synHeads)\n",
        "  \n",
        "  if (i==0):\n",
        "    common.update(synHeads)\n",
        "  else:\n",
        "    common=common.intersection(synHeads)\n",
        "\n",
        "print(sorted(common))\n",
        "print(len(common))\n",
        "print(round(avg/len(languages)))"
      ],
      "execution_count": null,
      "outputs": [
        {
          "output_type": "stream",
          "text": [
            "[]\n",
            "0\n",
            "2\n"
          ],
          "name": "stdout"
        }
      ]
    },
    {
      "cell_type": "markdown",
      "metadata": {
        "id": "O5-Q8TrVGIXL"
      },
      "source": [
        "**Common positional heads across languages in the FT model on XNLI English - Cross Lingual**"
      ]
    },
    {
      "cell_type": "code",
      "metadata": {
        "colab": {
          "base_uri": "https://localhost:8080/"
        },
        "id": "cXofZvl3GKHe",
        "outputId": "8fedc44f-92f5-4f50-ae0c-ec218b51e24d"
      },
      "source": [
        "languages=['english','german','french','spanish','hindi','urdu']\n",
        "\n",
        "functions=['cls','sep','local']\n",
        "\n",
        "avg=0\n",
        "\n",
        "threshold=3\n",
        "\n",
        "common=set()\n",
        "\n",
        "for i in range(len(languages)):\n",
        "  synHeads=set()\n",
        "  for k in functions:\n",
        "    with open(ftweightsPath + 'English/' + languages[i] + '-matrix-' + k + '-ft-1000.pl', 'rb') as f:\n",
        "        headSentScores=pickle.load(f)\n",
        "\n",
        "    heads=[]\n",
        "    for p in range(1,145):\n",
        "        s=statistics.stdev(headSentScores[p])\n",
        "        m=statistics.mean(headSentScores[p])\n",
        "        t=(m-threshold)/(s/math.sqrt(n))\n",
        "        pval=stats.t.sf(t, n-1)\n",
        "        if(pval<0.05):\n",
        "          heads.append(p)\n",
        "\n",
        "    if (len(synHeads)==0):\n",
        "      synHeads.update(heads)\n",
        "    else:\n",
        "      synHeads=synHeads.union(set(heads))\n",
        "\n",
        "  avg+=len(synHeads)\n",
        "  \n",
        "  if (i==0):\n",
        "    common.update(synHeads)\n",
        "  else:\n",
        "    common=common.intersection(synHeads)\n",
        "\n",
        "print(sorted(common))\n",
        "print(len(common))\n",
        "print(round(avg/len(languages)))"
      ],
      "execution_count": null,
      "outputs": [
        {
          "output_type": "stream",
          "text": [
            "[2, 6, 7, 8, 9, 10, 13, 14, 15, 16, 17, 18, 19, 20, 21, 22, 23, 24, 25, 26, 27, 28, 29, 30, 31, 32, 33, 34, 35, 36, 37, 38, 39, 40, 41, 42, 43, 44, 45, 46, 47, 48, 49, 50, 51, 52, 53, 54, 55, 56, 57, 58, 59, 60, 61, 62, 64, 65, 69, 70, 71, 72, 73, 74, 75, 76, 77, 78, 79, 80, 81, 82, 83, 84, 85, 86, 87, 88, 89, 90, 91, 92, 93, 94, 95, 96, 97, 98, 99, 100, 101, 102, 103, 104, 105, 106, 107, 108, 109, 110, 111, 112, 113, 114, 115, 116, 117, 118, 119, 120, 121, 122, 123, 124, 125, 126, 127, 128, 129, 130, 131, 132, 133, 134, 135, 136, 137, 138, 139, 140, 141, 142, 143, 144]\n",
            "134\n",
            "137\n"
          ],
          "name": "stdout"
        }
      ]
    },
    {
      "cell_type": "markdown",
      "metadata": {
        "id": "lQDqK6ygGQz8"
      },
      "source": [
        "**Common syntactic non positional heads across languages in the FT model on XNLI English - Cross Lingual**"
      ]
    },
    {
      "cell_type": "code",
      "metadata": {
        "colab": {
          "base_uri": "https://localhost:8080/"
        },
        "id": "6gwUlEWcGRLC",
        "outputId": "a9d83646-f819-49cd-85f3-c859e79a135a"
      },
      "source": [
        "languages=['english','german','french','spanish','hindi','urdu']\n",
        "\n",
        "functionspos=['cls','sep','local']\n",
        "\n",
        "functionssyn=['nsubj','amod','advmod','obj']\n",
        "\n",
        "avg=0\n",
        "\n",
        "common=set()\n",
        "\n",
        "for i in range(len(languages)):\n",
        "  posHeads=set()\n",
        "  for k in functionspos:\n",
        "    with open(ftweightsPath + 'English/' + languages[i] + '-matrix-' + k + '-ft-1000.pl', 'rb') as f:\n",
        "        headSentScores=pickle.load(f)\n",
        "\n",
        "    heads=[]\n",
        "    for p in range(1,145):\n",
        "        s=statistics.stdev(headSentScores[p])\n",
        "        m=statistics.mean(headSentScores[p])\n",
        "        t=(m-threshold)/(s/math.sqrt(n))\n",
        "        pval=stats.t.sf(t, n-1)\n",
        "        if(pval<0.05):\n",
        "          heads.append(p)\n",
        "\n",
        "    if (len(posHeads)==0):\n",
        "      posHeads.update(heads)\n",
        "    else:\n",
        "      posHeads=posHeads.union(set(heads))\n",
        "\n",
        "  synHeads=set()\n",
        "  for k in functionssyn:\n",
        "    with open(ftweightsPath + 'English/' + languages[i] + '-matrix-' + k + '-ft-1000.pl', 'rb') as f:\n",
        "        headSentScores=pickle.load(f)\n",
        "\n",
        "    heads=[]\n",
        "    for p in range(1,145):\n",
        "        s=statistics.stdev(headSentScores[p])\n",
        "        m=statistics.mean(headSentScores[p])\n",
        "        t=(m-threshold)/(s/math.sqrt(n))\n",
        "        pval=stats.t.sf(t, n-1)\n",
        "        if(pval<0.05):\n",
        "          if(p not in posHeads):\n",
        "            heads.append(p)\n",
        "\n",
        "    if (len(synHeads)==0):\n",
        "      synHeads.update(heads)\n",
        "    else:\n",
        "      synHeads=synHeads.union(set(heads))\n",
        "\n",
        "  avg+=len(synHeads)\n",
        "  \n",
        "  if (i==0):\n",
        "    common.update(synHeads)\n",
        "  else:\n",
        "    common=common.intersection(synHeads)\n",
        "\n",
        "print(sorted(common))\n",
        "print(len(common))\n",
        "print(round(avg/len(languages)))"
      ],
      "execution_count": null,
      "outputs": [
        {
          "output_type": "stream",
          "text": [
            "[]\n",
            "0\n",
            "1\n"
          ],
          "name": "stdout"
        }
      ]
    },
    {
      "cell_type": "markdown",
      "metadata": {
        "id": "S5bm41cqlFrG"
      },
      "source": [
        "**Parallel plots after fine tuning on XNLI (same task, across languages)**"
      ]
    },
    {
      "cell_type": "code",
      "metadata": {
        "colab": {
          "base_uri": "https://localhost:8080/",
          "height": 517
        },
        "id": "kl13Hx4ycvqL",
        "outputId": "b86b9106-e969-4b88-d947-ebaef2a98867"
      },
      "source": [
        "#This cell draws the parallel plots for each of the pivot languages after fine tuning on XNLI. We see that the parallel plots show the same structure for \n",
        "#all languages which aligns with the high correlation scores.\n",
        "\n",
        "name={}\n",
        "name['cls']='CLS'\n",
        "name['sep']='SEP'\n",
        "name['local']='Local'\n",
        "name['positional']='Positional'\n",
        "name['syntactic']='Syntactic'\n",
        "\n",
        "languages=['english']\n",
        "\n",
        "functions=['cls','sep','local','nsubj','amod','advmod','obj']\n",
        "\n",
        "for lang in languages:\n",
        "\n",
        "  rolespt=[set() for i in range(145)]\n",
        "  rolesft=[set() for i in range(145)]\n",
        "\n",
        "  for func in functions:\n",
        "    with open(ptweightsPath + lang + '-matrix-' + func + '-1000.pl', 'rb') as f:\n",
        "            headSentScorespt=pickle.load(f)\n",
        "\n",
        "    with open(ftweightsPath + lang.title() + '/' + lang + '-matrix-' + func + '-ft-1000.pl', 'rb') as f:\n",
        "            headSentScoresft=pickle.load(f)\n",
        "    \n",
        "    for p in range(1,145):\n",
        "      s=statistics.stdev(headSentScorespt[p])\n",
        "      m=statistics.mean(headSentScorespt[p])\n",
        "      t=(m-threshold)/(s/math.sqrt(n))\n",
        "      pval=stats.t.sf(t, n-1)\n",
        "      if(pval<0.05):\n",
        "        if (func in ['cls','sep','local']):\n",
        "          rolespt[p].add('positional')\n",
        "        else:\n",
        "          if('positional' not in rolespt[p]):\n",
        "            rolespt[p].add('syntactic')\n",
        "      s=statistics.stdev(headSentScoresft[p])\n",
        "      m=statistics.mean(headSentScoresft[p])\n",
        "      t=(m-threshold)/(s/math.sqrt(n))\n",
        "      pval=stats.t.sf(t, n-1)\n",
        "      if(pval<0.05):\n",
        "        if (func in ['cls','sep','local']):\n",
        "          rolesft[p].add('positional')\n",
        "        else:\n",
        "          if('positional' not in rolesft[p]):\n",
        "            rolesft[p].add('syntactic')\n",
        "\n",
        "  df=pd.DataFrame(columns=['PT','FT','Layer','Head'])\n",
        "  count=0   \n",
        "  for p in range(1,145):\n",
        "    layer=math.ceil(p/12)\n",
        "    if len(rolespt[p])==0 and len(rolesft[p])==0:\n",
        "      df.loc[count]=['Unskilled','Unskilled',layer,p]\n",
        "    else:\n",
        "      if len(rolespt[p])!=0 and len(rolesft[p])!=0:\n",
        "        old=list(rolespt[p])[0]\n",
        "        new=list(rolesft[p])[0]\n",
        "        df.loc[count]=[name[old],name[new],layer,p]\n",
        "      elif len(rolespt[p])!=0:\n",
        "        old=list(rolespt[p])[0]\n",
        "        df.loc[count]=[name[old],'Unskilled',layer,p]\n",
        "      elif len(rolesft[p])!=0:\n",
        "        new=list(rolesft[p])[0]\n",
        "        df.loc[count]=['Unskilled',name[new],layer,p]\n",
        "    count+=1\n",
        "\n",
        "  nonedf=df.loc[(df['PT']==df['FT']) & (df['PT']=='Unskilled')]\n",
        "  positionaldf=df.loc[(df['PT']==df['FT']) & (df['PT']==name['positional'])]\n",
        "  syndf=df.loc[(df['PT']==df['FT']) & (df['PT']==name['syntactic'])]\n",
        "  if (syndf.empty):\n",
        "    syndf=df.loc[df['PT']==name['syntactic']]\n",
        "    diffdf=df.loc[(df['PT']!=df['FT']) & (df['PT']!=name['syntactic'])]\n",
        "  else:\n",
        "    diffdf=df.loc[df['PT']!=df['FT']]\n",
        "  df=positionaldf.append(syndf).append(nonedf).append(diffdf)\n",
        "  fig = px.parallel_categories(\n",
        "      df, dimensions=['PT', 'FT'], color='Layer', \n",
        "      labels={'PT':'Pre Trained','FT': 'Fine Tuned'},\n",
        "      color_continuous_scale=px.colors.sequential.Inferno\n",
        "      )\n",
        "  fig.update_layout(\n",
        "      font_family=\"Times New Roman\",\n",
        "      autosize=False,\n",
        "      width=700,\n",
        "      height=500,font=dict(size=15))\n",
        "  #fig.update(layout_coloraxis_showscale=False)\n",
        "  fig.update_layout(coloraxis_colorbar=dict(\n",
        "    yanchor=\"top\", y=1,\n",
        "    ticks=\"outside\",xpad=60,ypad=50\n",
        "))\n",
        "  fig.show()\n",
        "\n",
        "  #fig.write_image(analysisPath + 'Plots/FineTunedXNLI/' + 'Parallel' + lang.title() + '.pdf')"
      ],
      "execution_count": null,
      "outputs": [
        {
          "output_type": "display_data",
          "data": {
            "text/html": [
              "<html>\n",
              "<head><meta charset=\"utf-8\" /></head>\n",
              "<body>\n",
              "    <div>\n",
              "            <script src=\"https://cdnjs.cloudflare.com/ajax/libs/mathjax/2.7.5/MathJax.js?config=TeX-AMS-MML_SVG\"></script><script type=\"text/javascript\">if (window.MathJax) {MathJax.Hub.Config({SVG: {font: \"STIX-Web\"}});}</script>\n",
              "                <script type=\"text/javascript\">window.PlotlyConfig = {MathJaxConfig: 'local'};</script>\n",
              "        <script src=\"https://cdn.plot.ly/plotly-latest.min.js\"></script>    \n",
              "            <div id=\"df372e61-6775-4893-8a15-9e45aeaf1a46\" class=\"plotly-graph-div\" style=\"height:500px; width:700px;\"></div>\n",
              "            <script type=\"text/javascript\">\n",
              "                \n",
              "                    window.PLOTLYENV=window.PLOTLYENV || {};\n",
              "                    \n",
              "                if (document.getElementById(\"df372e61-6775-4893-8a15-9e45aeaf1a46\")) {\n",
              "                    Plotly.newPlot(\n",
              "                        'df372e61-6775-4893-8a15-9e45aeaf1a46',\n",
              "                        [{\"dimensions\": [{\"label\": \"Pre Trained\", \"values\": [\"Positional\", \"Positional\", \"Positional\", \"Positional\", \"Positional\", \"Positional\", \"Positional\", \"Positional\", \"Positional\", \"Positional\", \"Positional\", \"Positional\", \"Positional\", \"Positional\", \"Positional\", \"Positional\", \"Positional\", \"Positional\", \"Positional\", \"Positional\", \"Positional\", \"Positional\", \"Positional\", \"Positional\", \"Positional\", \"Positional\", \"Positional\", \"Positional\", \"Positional\", \"Positional\", \"Positional\", \"Positional\", \"Positional\", \"Positional\", \"Positional\", \"Positional\", \"Positional\", \"Positional\", \"Positional\", \"Positional\", \"Positional\", \"Positional\", \"Positional\", \"Positional\", \"Positional\", \"Positional\", \"Positional\", \"Positional\", \"Positional\", \"Positional\", \"Positional\", \"Positional\", \"Positional\", \"Positional\", \"Positional\", \"Positional\", \"Positional\", \"Positional\", \"Positional\", \"Positional\", \"Positional\", \"Positional\", \"Positional\", \"Positional\", \"Positional\", \"Positional\", \"Positional\", \"Positional\", \"Positional\", \"Positional\", \"Positional\", \"Positional\", \"Positional\", \"Positional\", \"Positional\", \"Positional\", \"Positional\", \"Positional\", \"Positional\", \"Positional\", \"Positional\", \"Positional\", \"Positional\", \"Positional\", \"Positional\", \"Positional\", \"Positional\", \"Positional\", \"Positional\", \"Positional\", \"Positional\", \"Positional\", \"Positional\", \"Positional\", \"Positional\", \"Positional\", \"Positional\", \"Positional\", \"Positional\", \"Positional\", \"Positional\", \"Positional\", \"Positional\", \"Positional\", \"Positional\", \"Positional\", \"Positional\", \"Positional\", \"Positional\", \"Positional\", \"Positional\", \"Positional\", \"Positional\", \"Positional\", \"Positional\", \"Syntactic\", \"Syntactic\", \"Unskilled\", \"Unskilled\", \"Unskilled\", \"Unskilled\", \"Unskilled\", \"Positional\", \"Positional\", \"Unskilled\", \"Unskilled\", \"Positional\", \"Unskilled\", \"Syntactic\", \"Syntactic\", \"Unskilled\", \"Syntactic\", \"Syntactic\", \"Unskilled\", \"Unskilled\", \"Syntactic\", \"Unskilled\", \"Syntactic\", \"Syntactic\", \"Unskilled\", \"Unskilled\", \"Unskilled\", \"Unskilled\", \"Syntactic\"]}, {\"label\": \"Fine Tuned\", \"values\": [\"Positional\", \"Positional\", \"Positional\", \"Positional\", \"Positional\", \"Positional\", \"Positional\", \"Positional\", \"Positional\", \"Positional\", \"Positional\", \"Positional\", \"Positional\", \"Positional\", \"Positional\", \"Positional\", \"Positional\", \"Positional\", \"Positional\", \"Positional\", \"Positional\", \"Positional\", \"Positional\", \"Positional\", \"Positional\", \"Positional\", \"Positional\", \"Positional\", \"Positional\", \"Positional\", \"Positional\", \"Positional\", \"Positional\", \"Positional\", \"Positional\", \"Positional\", \"Positional\", \"Positional\", \"Positional\", \"Positional\", \"Positional\", \"Positional\", \"Positional\", \"Positional\", \"Positional\", \"Positional\", \"Positional\", \"Positional\", \"Positional\", \"Positional\", \"Positional\", \"Positional\", \"Positional\", \"Positional\", \"Positional\", \"Positional\", \"Positional\", \"Positional\", \"Positional\", \"Positional\", \"Positional\", \"Positional\", \"Positional\", \"Positional\", \"Positional\", \"Positional\", \"Positional\", \"Positional\", \"Positional\", \"Positional\", \"Positional\", \"Positional\", \"Positional\", \"Positional\", \"Positional\", \"Positional\", \"Positional\", \"Positional\", \"Positional\", \"Positional\", \"Positional\", \"Positional\", \"Positional\", \"Positional\", \"Positional\", \"Positional\", \"Positional\", \"Positional\", \"Positional\", \"Positional\", \"Positional\", \"Positional\", \"Positional\", \"Positional\", \"Positional\", \"Positional\", \"Positional\", \"Positional\", \"Positional\", \"Positional\", \"Positional\", \"Positional\", \"Positional\", \"Positional\", \"Positional\", \"Positional\", \"Positional\", \"Positional\", \"Positional\", \"Positional\", \"Positional\", \"Positional\", \"Positional\", \"Positional\", \"Positional\", \"Syntactic\", \"Syntactic\", \"Unskilled\", \"Unskilled\", \"Unskilled\", \"Unskilled\", \"Unskilled\", \"Unskilled\", \"Unskilled\", \"Positional\", \"Syntactic\", \"Syntactic\", \"Positional\", \"Positional\", \"Positional\", \"Positional\", \"Positional\", \"Positional\", \"Positional\", \"Positional\", \"Positional\", \"Positional\", \"Positional\", \"Positional\", \"Positional\", \"Positional\", \"Positional\", \"Positional\", \"Positional\"]}], \"domain\": {\"x\": [0.0, 1.0], \"y\": [0.0, 1.0]}, \"line\": {\"color\": [1, 1, 1, 1, 2, 2, 2, 2, 2, 2, 2, 2, 2, 2, 2, 2, 3, 3, 3, 3, 3, 3, 3, 3, 3, 3, 3, 3, 4, 4, 4, 4, 4, 4, 4, 4, 4, 4, 4, 4, 5, 5, 5, 5, 5, 5, 5, 5, 5, 5, 5, 5, 6, 6, 6, 6, 6, 6, 6, 7, 7, 7, 7, 7, 7, 7, 7, 7, 7, 8, 8, 8, 8, 8, 8, 8, 8, 9, 9, 9, 9, 9, 9, 9, 9, 10, 10, 10, 10, 10, 10, 10, 10, 10, 11, 11, 11, 11, 11, 11, 11, 11, 11, 11, 12, 12, 12, 12, 12, 12, 12, 12, 12, 12, 12, 1, 6, 1, 1, 1, 1, 1, 1, 1, 6, 6, 6, 6, 7, 7, 8, 8, 8, 8, 9, 9, 9, 9, 10, 10, 10, 11, 11, 12], \"coloraxis\": \"coloraxis\"}, \"name\": \"\", \"type\": \"parcats\"}],\n",
              "                        {\"autosize\": false, \"coloraxis\": {\"colorbar\": {\"ticks\": \"outside\", \"title\": {\"text\": \"Layer\"}, \"xpad\": 60, \"y\": 1, \"yanchor\": \"top\", \"ypad\": 50}, \"colorscale\": [[0.0, \"#000004\"], [0.1111111111111111, \"#1b0c41\"], [0.2222222222222222, \"#4a0c6b\"], [0.3333333333333333, \"#781c6d\"], [0.4444444444444444, \"#a52c60\"], [0.5555555555555556, \"#cf4446\"], [0.6666666666666666, \"#ed6925\"], [0.7777777777777778, \"#fb9b06\"], [0.8888888888888888, \"#f7d13d\"], [1.0, \"#fcffa4\"]]}, \"font\": {\"family\": \"Times New Roman\", \"size\": 15}, \"height\": 500, \"legend\": {\"tracegroupgap\": 0}, \"margin\": {\"t\": 60}, \"template\": {\"data\": {\"bar\": [{\"error_x\": {\"color\": \"#2a3f5f\"}, \"error_y\": {\"color\": \"#2a3f5f\"}, \"marker\": {\"line\": {\"color\": \"#E5ECF6\", \"width\": 0.5}}, \"type\": \"bar\"}], \"barpolar\": [{\"marker\": {\"line\": {\"color\": \"#E5ECF6\", \"width\": 0.5}}, \"type\": \"barpolar\"}], \"carpet\": [{\"aaxis\": {\"endlinecolor\": \"#2a3f5f\", \"gridcolor\": \"white\", \"linecolor\": \"white\", \"minorgridcolor\": \"white\", \"startlinecolor\": \"#2a3f5f\"}, \"baxis\": {\"endlinecolor\": \"#2a3f5f\", \"gridcolor\": \"white\", \"linecolor\": \"white\", \"minorgridcolor\": \"white\", \"startlinecolor\": \"#2a3f5f\"}, \"type\": \"carpet\"}], \"choropleth\": [{\"colorbar\": {\"outlinewidth\": 0, \"ticks\": \"\"}, \"type\": \"choropleth\"}], \"contour\": [{\"colorbar\": {\"outlinewidth\": 0, \"ticks\": \"\"}, \"colorscale\": [[0.0, \"#0d0887\"], [0.1111111111111111, \"#46039f\"], [0.2222222222222222, \"#7201a8\"], [0.3333333333333333, \"#9c179e\"], [0.4444444444444444, \"#bd3786\"], [0.5555555555555556, \"#d8576b\"], [0.6666666666666666, \"#ed7953\"], [0.7777777777777778, \"#fb9f3a\"], [0.8888888888888888, \"#fdca26\"], [1.0, \"#f0f921\"]], \"type\": \"contour\"}], \"contourcarpet\": [{\"colorbar\": {\"outlinewidth\": 0, \"ticks\": \"\"}, \"type\": \"contourcarpet\"}], \"heatmap\": [{\"colorbar\": {\"outlinewidth\": 0, \"ticks\": \"\"}, \"colorscale\": [[0.0, \"#0d0887\"], [0.1111111111111111, \"#46039f\"], [0.2222222222222222, \"#7201a8\"], [0.3333333333333333, \"#9c179e\"], [0.4444444444444444, \"#bd3786\"], [0.5555555555555556, \"#d8576b\"], [0.6666666666666666, \"#ed7953\"], [0.7777777777777778, \"#fb9f3a\"], [0.8888888888888888, \"#fdca26\"], [1.0, \"#f0f921\"]], \"type\": \"heatmap\"}], \"heatmapgl\": [{\"colorbar\": {\"outlinewidth\": 0, \"ticks\": \"\"}, \"colorscale\": [[0.0, \"#0d0887\"], [0.1111111111111111, \"#46039f\"], [0.2222222222222222, \"#7201a8\"], [0.3333333333333333, \"#9c179e\"], [0.4444444444444444, \"#bd3786\"], [0.5555555555555556, \"#d8576b\"], [0.6666666666666666, \"#ed7953\"], [0.7777777777777778, \"#fb9f3a\"], [0.8888888888888888, \"#fdca26\"], [1.0, \"#f0f921\"]], \"type\": \"heatmapgl\"}], \"histogram\": [{\"marker\": {\"colorbar\": {\"outlinewidth\": 0, \"ticks\": \"\"}}, \"type\": \"histogram\"}], \"histogram2d\": [{\"colorbar\": {\"outlinewidth\": 0, \"ticks\": \"\"}, \"colorscale\": [[0.0, \"#0d0887\"], [0.1111111111111111, \"#46039f\"], [0.2222222222222222, \"#7201a8\"], [0.3333333333333333, \"#9c179e\"], [0.4444444444444444, \"#bd3786\"], [0.5555555555555556, \"#d8576b\"], [0.6666666666666666, \"#ed7953\"], [0.7777777777777778, \"#fb9f3a\"], [0.8888888888888888, \"#fdca26\"], [1.0, \"#f0f921\"]], \"type\": \"histogram2d\"}], \"histogram2dcontour\": [{\"colorbar\": {\"outlinewidth\": 0, \"ticks\": \"\"}, \"colorscale\": [[0.0, \"#0d0887\"], [0.1111111111111111, \"#46039f\"], [0.2222222222222222, \"#7201a8\"], [0.3333333333333333, \"#9c179e\"], [0.4444444444444444, \"#bd3786\"], [0.5555555555555556, \"#d8576b\"], [0.6666666666666666, \"#ed7953\"], [0.7777777777777778, \"#fb9f3a\"], [0.8888888888888888, \"#fdca26\"], [1.0, \"#f0f921\"]], \"type\": \"histogram2dcontour\"}], \"mesh3d\": [{\"colorbar\": {\"outlinewidth\": 0, \"ticks\": \"\"}, \"type\": \"mesh3d\"}], \"parcoords\": [{\"line\": {\"colorbar\": {\"outlinewidth\": 0, \"ticks\": \"\"}}, \"type\": \"parcoords\"}], \"pie\": [{\"automargin\": true, \"type\": \"pie\"}], \"scatter\": [{\"marker\": {\"colorbar\": {\"outlinewidth\": 0, \"ticks\": \"\"}}, \"type\": \"scatter\"}], \"scatter3d\": [{\"line\": {\"colorbar\": {\"outlinewidth\": 0, \"ticks\": \"\"}}, \"marker\": {\"colorbar\": {\"outlinewidth\": 0, \"ticks\": \"\"}}, \"type\": \"scatter3d\"}], \"scattercarpet\": [{\"marker\": {\"colorbar\": {\"outlinewidth\": 0, \"ticks\": \"\"}}, \"type\": \"scattercarpet\"}], \"scattergeo\": [{\"marker\": {\"colorbar\": {\"outlinewidth\": 0, \"ticks\": \"\"}}, \"type\": \"scattergeo\"}], \"scattergl\": [{\"marker\": {\"colorbar\": {\"outlinewidth\": 0, \"ticks\": \"\"}}, \"type\": \"scattergl\"}], \"scattermapbox\": [{\"marker\": {\"colorbar\": {\"outlinewidth\": 0, \"ticks\": \"\"}}, \"type\": \"scattermapbox\"}], \"scatterpolar\": [{\"marker\": {\"colorbar\": {\"outlinewidth\": 0, \"ticks\": \"\"}}, \"type\": \"scatterpolar\"}], \"scatterpolargl\": [{\"marker\": {\"colorbar\": {\"outlinewidth\": 0, \"ticks\": \"\"}}, \"type\": \"scatterpolargl\"}], \"scatterternary\": [{\"marker\": {\"colorbar\": {\"outlinewidth\": 0, \"ticks\": \"\"}}, \"type\": \"scatterternary\"}], \"surface\": [{\"colorbar\": {\"outlinewidth\": 0, \"ticks\": \"\"}, \"colorscale\": [[0.0, \"#0d0887\"], [0.1111111111111111, \"#46039f\"], [0.2222222222222222, \"#7201a8\"], [0.3333333333333333, \"#9c179e\"], [0.4444444444444444, \"#bd3786\"], [0.5555555555555556, \"#d8576b\"], [0.6666666666666666, \"#ed7953\"], [0.7777777777777778, \"#fb9f3a\"], [0.8888888888888888, \"#fdca26\"], [1.0, \"#f0f921\"]], \"type\": \"surface\"}], \"table\": [{\"cells\": {\"fill\": {\"color\": \"#EBF0F8\"}, \"line\": {\"color\": \"white\"}}, \"header\": {\"fill\": {\"color\": \"#C8D4E3\"}, \"line\": {\"color\": \"white\"}}, \"type\": \"table\"}]}, \"layout\": {\"annotationdefaults\": {\"arrowcolor\": \"#2a3f5f\", \"arrowhead\": 0, \"arrowwidth\": 1}, \"coloraxis\": {\"colorbar\": {\"outlinewidth\": 0, \"ticks\": \"\"}}, \"colorscale\": {\"diverging\": [[0, \"#8e0152\"], [0.1, \"#c51b7d\"], [0.2, \"#de77ae\"], [0.3, \"#f1b6da\"], [0.4, \"#fde0ef\"], [0.5, \"#f7f7f7\"], [0.6, \"#e6f5d0\"], [0.7, \"#b8e186\"], [0.8, \"#7fbc41\"], [0.9, \"#4d9221\"], [1, \"#276419\"]], \"sequential\": [[0.0, \"#0d0887\"], [0.1111111111111111, \"#46039f\"], [0.2222222222222222, \"#7201a8\"], [0.3333333333333333, \"#9c179e\"], [0.4444444444444444, \"#bd3786\"], [0.5555555555555556, \"#d8576b\"], [0.6666666666666666, \"#ed7953\"], [0.7777777777777778, \"#fb9f3a\"], [0.8888888888888888, \"#fdca26\"], [1.0, \"#f0f921\"]], \"sequentialminus\": [[0.0, \"#0d0887\"], [0.1111111111111111, \"#46039f\"], [0.2222222222222222, \"#7201a8\"], [0.3333333333333333, \"#9c179e\"], [0.4444444444444444, \"#bd3786\"], [0.5555555555555556, \"#d8576b\"], [0.6666666666666666, \"#ed7953\"], [0.7777777777777778, \"#fb9f3a\"], [0.8888888888888888, \"#fdca26\"], [1.0, \"#f0f921\"]]}, \"colorway\": [\"#636efa\", \"#EF553B\", \"#00cc96\", \"#ab63fa\", \"#FFA15A\", \"#19d3f3\", \"#FF6692\", \"#B6E880\", \"#FF97FF\", \"#FECB52\"], \"font\": {\"color\": \"#2a3f5f\"}, \"geo\": {\"bgcolor\": \"white\", \"lakecolor\": \"white\", \"landcolor\": \"#E5ECF6\", \"showlakes\": true, \"showland\": true, \"subunitcolor\": \"white\"}, \"hoverlabel\": {\"align\": \"left\"}, \"hovermode\": \"closest\", \"mapbox\": {\"style\": \"light\"}, \"paper_bgcolor\": \"white\", \"plot_bgcolor\": \"#E5ECF6\", \"polar\": {\"angularaxis\": {\"gridcolor\": \"white\", \"linecolor\": \"white\", \"ticks\": \"\"}, \"bgcolor\": \"#E5ECF6\", \"radialaxis\": {\"gridcolor\": \"white\", \"linecolor\": \"white\", \"ticks\": \"\"}}, \"scene\": {\"xaxis\": {\"backgroundcolor\": \"#E5ECF6\", \"gridcolor\": \"white\", \"gridwidth\": 2, \"linecolor\": \"white\", \"showbackground\": true, \"ticks\": \"\", \"zerolinecolor\": \"white\"}, \"yaxis\": {\"backgroundcolor\": \"#E5ECF6\", \"gridcolor\": \"white\", \"gridwidth\": 2, \"linecolor\": \"white\", \"showbackground\": true, \"ticks\": \"\", \"zerolinecolor\": \"white\"}, \"zaxis\": {\"backgroundcolor\": \"#E5ECF6\", \"gridcolor\": \"white\", \"gridwidth\": 2, \"linecolor\": \"white\", \"showbackground\": true, \"ticks\": \"\", \"zerolinecolor\": \"white\"}}, \"shapedefaults\": {\"line\": {\"color\": \"#2a3f5f\"}}, \"ternary\": {\"aaxis\": {\"gridcolor\": \"white\", \"linecolor\": \"white\", \"ticks\": \"\"}, \"baxis\": {\"gridcolor\": \"white\", \"linecolor\": \"white\", \"ticks\": \"\"}, \"bgcolor\": \"#E5ECF6\", \"caxis\": {\"gridcolor\": \"white\", \"linecolor\": \"white\", \"ticks\": \"\"}}, \"title\": {\"x\": 0.05}, \"xaxis\": {\"automargin\": true, \"gridcolor\": \"white\", \"linecolor\": \"white\", \"ticks\": \"\", \"title\": {\"standoff\": 15}, \"zerolinecolor\": \"white\", \"zerolinewidth\": 2}, \"yaxis\": {\"automargin\": true, \"gridcolor\": \"white\", \"linecolor\": \"white\", \"ticks\": \"\", \"title\": {\"standoff\": 15}, \"zerolinecolor\": \"white\", \"zerolinewidth\": 2}}}, \"width\": 700},\n",
              "                        {\"responsive\": true}\n",
              "                    ).then(function(){\n",
              "                            \n",
              "var gd = document.getElementById('df372e61-6775-4893-8a15-9e45aeaf1a46');\n",
              "var x = new MutationObserver(function (mutations, observer) {{\n",
              "        var display = window.getComputedStyle(gd).display;\n",
              "        if (!display || display === 'none') {{\n",
              "            console.log([gd, 'removed!']);\n",
              "            Plotly.purge(gd);\n",
              "            observer.disconnect();\n",
              "        }}\n",
              "}});\n",
              "\n",
              "// Listen for the removal of the full notebook cells\n",
              "var notebookContainer = gd.closest('#notebook-container');\n",
              "if (notebookContainer) {{\n",
              "    x.observe(notebookContainer, {childList: true});\n",
              "}}\n",
              "\n",
              "// Listen for the clearing of the current output cell\n",
              "var outputEl = gd.closest('.output');\n",
              "if (outputEl) {{\n",
              "    x.observe(outputEl, {childList: true});\n",
              "}}\n",
              "\n",
              "                        })\n",
              "                };\n",
              "                \n",
              "            </script>\n",
              "        </div>\n",
              "</body>\n",
              "</html>"
            ]
          },
          "metadata": {
            "tags": []
          }
        }
      ]
    },
    {
      "cell_type": "markdown",
      "metadata": {
        "id": "NjNM1piMI_lw"
      },
      "source": [
        "**Pie chart for the roles in pretrained model**"
      ]
    },
    {
      "cell_type": "code",
      "metadata": {
        "colab": {
          "base_uri": "https://localhost:8080/",
          "height": 424
        },
        "id": "gD_bM1-3Xise",
        "outputId": "8d59368d-30de-4067-f97c-b6435042b884"
      },
      "source": [
        "#This cell plots the pie charts of the proportion of each category in the outer ring and the inner ring contains numbers for groups of 1 to 6 languages.\n",
        "\n",
        "import itertools\n",
        "\n",
        "languagesInitial=['english']\n",
        "\n",
        "fig, ax = plt.subplots(figsize=(3,3))\n",
        "\n",
        "plt.subplots_adjust(wspace=5)\n",
        "\n",
        "functionspos=['cls','sep','local']\n",
        "\n",
        "functionssyn=['nsubj','amod','advmod','obj']\n",
        "\n",
        "functions=['cls','sep','local','nsubj','amod','advmod','obj']\n",
        "\n",
        "for countl,language in enumerate(languagesInitial):\n",
        "\n",
        "  avg=0\n",
        "\n",
        "  common=set()\n",
        "\n",
        "  posHeads=set()\n",
        "  for k in functionspos:\n",
        "    with open(ptweightsPath + language + '-matrix-' + k + '-1000.pl', 'rb') as f:\n",
        "        headSentScores=pickle.load(f)\n",
        "\n",
        "    heads=[]\n",
        "    for p in range(1,145):\n",
        "        s=statistics.stdev(headSentScores[p])\n",
        "        m=statistics.mean(headSentScores[p])\n",
        "        t=(m-threshold)/(s/math.sqrt(n))\n",
        "        pval=stats.t.sf(t, n-1)\n",
        "        if(pval<0.05):\n",
        "          heads.append(p)\n",
        "\n",
        "    if (len(posHeads)==0):\n",
        "      posHeads.update(heads)\n",
        "    else:\n",
        "      posHeads=posHeads.union(set(heads))\n",
        "\n",
        "  synHeads=set()\n",
        "  for k in functionssyn:\n",
        "    with open(ptweightsPath + language + '-matrix-' + k + '-1000.pl', 'rb') as f:\n",
        "        headSentScores=pickle.load(f)\n",
        "\n",
        "    heads=[]\n",
        "    for p in range(1,145):\n",
        "        s=statistics.stdev(headSentScores[p])\n",
        "        m=statistics.mean(headSentScores[p])\n",
        "        t=(m-threshold)/(s/math.sqrt(n))\n",
        "        pval=stats.t.sf(t, n-1)\n",
        "        if(pval<0.05):\n",
        "          if(p not in posHeads):\n",
        "            heads.append(p)\n",
        "\n",
        "    if (len(synHeads)==0):\n",
        "      synHeads.update(heads)\n",
        "    else:\n",
        "      synHeads=synHeads.union(set(heads))\n",
        "\n",
        "  avg+=len(synHeads)\n",
        "\n",
        "  unskilledHeads=set(np.arange(1,145)) - synHeads.union(posHeads)\n",
        "\n",
        "  languages=['english','german','french','spanish','hindi','urdu']\n",
        "\n",
        "  freqPos={}\n",
        "  freqSyn={}\n",
        "  freqUns={}\n",
        "  for i in range(1,145):\n",
        "    freqPos[i]=0\n",
        "    freqSyn[i]=0\n",
        "    freqUns[i]=0\n",
        "  for lang in languages:\n",
        "    posHeadsAll=set()\n",
        "    for k in functionspos:\n",
        "      with open(ptweightsPath + lang + '-matrix-' + k + '-1000.pl', 'rb') as f:\n",
        "          headSentScores=pickle.load(f)\n",
        "\n",
        "      heads=[]\n",
        "      for p in range(1,145):\n",
        "          s=statistics.stdev(headSentScores[p])\n",
        "          m=statistics.mean(headSentScores[p])\n",
        "          t=(m-threshold)/(s/math.sqrt(n))\n",
        "          pval=stats.t.sf(t, n-1)\n",
        "          if(pval<0.05):\n",
        "            heads.append(p)\n",
        "\n",
        "      if (len(posHeadsAll)==0):\n",
        "        posHeadsAll.update(heads)\n",
        "      else:\n",
        "        posHeadsAll=posHeadsAll.union(set(heads))\n",
        "\n",
        "    for head in posHeadsAll:\n",
        "      freqPos[head]+=1\n",
        "\n",
        "    synHeadsAll=set()\n",
        "    for k in functionssyn:\n",
        "      with open(ptweightsPath + lang + '-matrix-' + k + '-1000.pl', 'rb') as f:\n",
        "          headSentScores=pickle.load(f)\n",
        "\n",
        "      heads=[]\n",
        "      for p in range(1,145):\n",
        "          s=statistics.stdev(headSentScores[p])\n",
        "          m=statistics.mean(headSentScores[p])\n",
        "          t=(m-threshold)/(s/math.sqrt(n))\n",
        "          pval=stats.t.sf(t, n-1)\n",
        "          if(pval<0.05):\n",
        "            if(p not in posHeadsAll):\n",
        "              heads.append(p)\n",
        "\n",
        "      if (len(synHeadsAll)==0):\n",
        "        synHeadsAll.update(heads)\n",
        "      else:\n",
        "        synHeadsAll=synHeadsAll.union(set(heads))\n",
        "\n",
        "    for head in synHeadsAll:\n",
        "      freqSyn[head]+=1\n",
        "\n",
        "  for lang in languages:\n",
        "    freq={}\n",
        "    for i in range(1,145):\n",
        "      freq[i]=0\n",
        "    for func in functions:\n",
        "      with open(ptweightsPath + lang + '-matrix-' + func + '-1000.pl', 'rb') as f:\n",
        "            headSentScores=pickle.load(f)\n",
        "\n",
        "      heads=[]\n",
        "      for p in range(1,145):\n",
        "          s=statistics.stdev(headSentScores[p])\n",
        "          m=statistics.mean(headSentScores[p])\n",
        "          t=(m-threshold)/(s/math.sqrt(n))\n",
        "          pval=stats.t.sf(t, n-1)\n",
        "          if(pval<0.05):\n",
        "            heads.append(p)\n",
        "\n",
        "      for head in heads:\n",
        "        freq[head]+=1\n",
        "    \n",
        "    skilledHeadsAll=[key for key,value in freq.items() if value>=1]\n",
        "    unSkilledHeadsAll=set(np.arange(1,145)) - set(skilledHeadsAll)\n",
        "    for head in unSkilledHeadsAll:\n",
        "      freqUns[head]+=1\n",
        "\n",
        "  countsPos=[]\n",
        "  countsSyn=[]\n",
        "  countsUns=[]\n",
        "  for i in range(1,7):\n",
        "    countsPos.append(set([key for key,value in freqPos.items() if value==i]))\n",
        "    countsSyn.append(set([key for key,value in freqSyn.items() if value==i]))\n",
        "    countsUns.append(set([key for key,value in freqUns.items() if value==i]))\n",
        "\n",
        "  intersectionsPos=[]\n",
        "  intersectionsSyn=[]\n",
        "  intersectionsUns=[]\n",
        "  for i in range(6):\n",
        "    intersectionsPos.append(len(countsPos[i].intersection(posHeads)))\n",
        "    intersectionsSyn.append(len(countsSyn[i].intersection(synHeads)))\n",
        "    intersectionsUns.append(len(countsUns[i].intersection(unskilledHeads)))\n",
        "\n",
        "  plt.rcParams['font.size'] = 25\n",
        "  plt.rcParams[\"font.family\"] = \"Times New Roman\"\n",
        "\n",
        "  cmap1 = plt.cm.Blues\n",
        "  cmap2 = plt.cm.Greens\n",
        "  cmap3 = plt.cm.Reds\n",
        "  inner_colors = [*cmap1(np.linspace(.1, .8, 6)),\n",
        "                  *cmap2(np.linspace(.1, .8, 6)),\n",
        "                  *cmap3(np.linspace(.1, .8, 6))]\n",
        "\n",
        "  sublabels=['z'] * 18\n",
        "  wedges, texts = ax.pie([len(posHeads),len(synHeads),len(unskilledHeads)],radius=3,colors=[cmap1(1.),cmap2(1.),cmap3(1.)],wedgeprops=dict(width=1, edgecolor='w'))\n",
        "  pie2, text2 = ax.pie(list(itertools.chain(intersectionsPos, intersectionsSyn, intersectionsUns)),colors=inner_colors,radius=2,labels=sublabels,wedgeprops=dict(width=0.5, edgecolor='w'))\n",
        "  for t in text2:\n",
        "      t.remove()\n",
        "\n",
        "fig.show()\n",
        "\n",
        "#fig.savefig(analysisPath + 'Plots/PreTrained/' + 'pie' + language.title() + '.pdf', dpi=1200, format='pdf',bbox_inches = \"tight\")"
      ],
      "execution_count": null,
      "outputs": [
        {
          "output_type": "display_data",
          "data": {
            "image/png": "[encoded data removed]",
            "text/plain": [
              "<Figure size 216x216 with 1 Axes>"
            ]
          },
          "metadata": {
            "tags": []
          }
        }
      ]
    },
    {
      "cell_type": "markdown",
      "metadata": {
        "id": "c4xGQ73KcLV7"
      },
      "source": [
        "**Pie charts with language groupings in pretrained model**"
      ]
    },
    {
      "cell_type": "code",
      "metadata": {
        "colab": {
          "base_uri": "https://localhost:8080/",
          "height": 211
        },
        "id": "aKSVgLehcJes",
        "outputId": "500ae2e8-6058-4881-bc41-a34d2c5c229a"
      },
      "source": [
        "#This cell plots two pie charts for each language family, the first one shows the average no: of heads of a specific role across the pair of languages, the\n",
        "#second one shows the no: of common heads of a specific role across the languages. \n",
        "\n",
        "import itertools\n",
        "\n",
        "languages=['english','german']\n",
        "\n",
        "fig, ax = plt.subplots(1,2,figsize=(5,5))\n",
        "\n",
        "plt.subplots_adjust(wspace=3)\n",
        "\n",
        "functionspos=['cls','sep','local']\n",
        "\n",
        "functionssyn=['nsubj','amod','advmod','obj']\n",
        "\n",
        "functions=['cls','sep','local','nsubj','amod','advmod','obj']\n",
        "\n",
        "avgpos=0\n",
        "avgsyn=0\n",
        "avguns=0\n",
        "\n",
        "commonpos=set()\n",
        "commonsyn=set()\n",
        "commonuns=set()\n",
        "\n",
        "for countl,language in enumerate(languages):\n",
        "\n",
        "  avg=0\n",
        "\n",
        "  posHeads=set()\n",
        "  for k in functionspos:\n",
        "    with open(ptweightsPath + language + '-matrix-' + k + '-1000.pl', 'rb') as f:\n",
        "        headSentScores=pickle.load(f)\n",
        "\n",
        "    heads=[]\n",
        "    for p in range(1,145):\n",
        "        s=statistics.stdev(headSentScores[p])\n",
        "        m=statistics.mean(headSentScores[p])\n",
        "        t=(m-threshold)/(s/math.sqrt(n))\n",
        "        pval=stats.t.sf(t, n-1)\n",
        "        if(pval<0.05):\n",
        "          heads.append(p)\n",
        "\n",
        "    if (len(posHeads)==0):\n",
        "      posHeads.update(heads)\n",
        "    else:\n",
        "      posHeads=posHeads.union(set(heads))\n",
        "\n",
        "  if (len(commonpos)==0):\n",
        "    commonpos.update(posHeads)\n",
        "  else:\n",
        "    commonpos=commonpos.intersection(posHeads)\n",
        "    \n",
        "  avgpos+=len(posHeads)\n",
        "\n",
        "  synHeads=set()\n",
        "  for k in functionssyn:\n",
        "    with open(ptweightsPath + language + '-matrix-' + k + '-1000.pl', 'rb') as f:\n",
        "        headSentScores=pickle.load(f)\n",
        "\n",
        "    heads=[]\n",
        "    for p in range(1,145):\n",
        "        s=statistics.stdev(headSentScores[p])\n",
        "        m=statistics.mean(headSentScores[p])\n",
        "        t=(m-threshold)/(s/math.sqrt(n))\n",
        "        pval=stats.t.sf(t, n-1)\n",
        "        if(pval<0.05):\n",
        "          if(p not in posHeads):\n",
        "            heads.append(p)\n",
        "\n",
        "    if (len(synHeads)==0):\n",
        "      synHeads.update(heads)\n",
        "    else:\n",
        "      synHeads=synHeads.union(set(heads))\n",
        "\n",
        "  if (len(commonsyn)==0):\n",
        "    commonsyn.update(synHeads)\n",
        "  else:\n",
        "    commonsyn=commonsyn.intersection(synHeads)\n",
        "\n",
        "  avgsyn+=len(synHeads)\n",
        "\n",
        "  unskilledHeads=set(np.arange(1,145)) - synHeads.union(posHeads)\n",
        "\n",
        "  if (len(commonuns)==0):\n",
        "    commonuns.update(unskilledHeads)\n",
        "  else:\n",
        "    commonuns=commonuns.intersection(unskilledHeads)\n",
        "\n",
        "  avguns+=len(unskilledHeads)\n",
        "\n",
        "plt.rcParams['font.size'] = 25\n",
        "plt.rcParams[\"font.family\"] = \"Times New Roman\"\n",
        "\n",
        "cmap1 = plt.cm.Blues\n",
        "cmap2 = plt.cm.Greens\n",
        "cmap3 = plt.cm.Reds\n",
        "inner_colors = [*cmap1(np.linspace(.1, .8, 6)),\n",
        "                *cmap2(np.linspace(.1, .8, 6)),\n",
        "                *cmap3(np.linspace(.1, .8, 6))]\n",
        "\n",
        "pos=round(avgpos/len(languages))\n",
        "syn=round(avgsyn/len(languages))\n",
        "uns=round(avguns/len(languages))\n",
        "wedges, texts = ax[0].pie([pos,syn,uns],radius=4,colors=[cmap1(1.),cmap2(1.),cmap3(1.)],wedgeprops=dict(width=1, edgecolor='w'))\n",
        "wedges, texts = ax[1].pie([len(commonpos),len(commonsyn),len(commonuns)],radius=4,colors=[cmap1(1.),cmap2(1.),cmap3(1.)],wedgeprops=dict(width=1, edgecolor='w'))\n",
        "fig.show()\n",
        "\n",
        "#fig.savefig(analysisPath + 'Plots/PreTrained/' + 'pieAryan.png', dpi=1200, format='png',bbox_inches = \"tight\")"
      ],
      "execution_count": null,
      "outputs": [
        {
          "output_type": "display_data",
          "data": {
            "image/png": "[encoded data removed]",
            "text/plain": [
              "<Figure size 360x360 with 2 Axes>"
            ]
          },
          "metadata": {
            "tags": []
          }
        }
      ]
    },
    {
      "cell_type": "markdown",
      "metadata": {
        "id": "hXXoj1fYkR-L"
      },
      "source": [
        "**Jensen-Shannon Divergence between attention distributions of heads**"
      ]
    },
    {
      "cell_type": "code",
      "metadata": {
        "id": "hgH6lJlOkTLp",
        "colab": {
          "base_uri": "https://localhost:8080/",
          "height": 350,
          "referenced_widgets": [
            "2d59e86d4ac74a98829c99973fa867f1",
            "ed795b1d14654492a4d3ccdadd3b324e",
            "f1f28f8d19414a23a685d87706baf7f8",
            "a8ea38aa4f084c3e9134ab05af0b79a8",
            "0136357f4cc54f419d292dbeaef15476",
            "20ab8ebca7924a61a36dc9dd88edcbf5",
            "2e87c89f940f400e9751644e2b65ded1",
            "976c0a4f04654893a5095b88a92071ee",
            "b9e379425a254b36b36e60e0fa1f1af6",
            "d7975f0007fd4bb8b4734b9b6eb1d9e2",
            "5a9d8b7757154381a9c0c4aa4260a13f",
            "4222e745975342c9885638b3b9ef7777",
            "056e545d17d743878741be4c3d36a407",
            "db9be0dcf36a4c128c03e00743fd5978",
            "72d75aaacff441779d2c7058da083c82",
            "78b9384927474d5bb665c9c63e3a47c8",
            "2c6658df6caf43a687579cdfd5bc5d66",
            "dea97f685498477eaba4b656450c31e6",
            "9bca7d1be3e14d809c46d78446da5ca6",
            "7192faae5e034e0dbff04363bbbd5568",
            "9b12070a7f2e46b38f81b1335b3a34e6",
            "9a6187ed249442129213a8afff62a332",
            "51390154560a4572856e28312ad84060",
            "cb3618722f6f4278a7953ad423570cab",
            "d16039a4fbcd4c74bd49c2c690c56b46",
            "06eb8033864a425bb4ad97f7a27b595f",
            "de39cc7e979c4425b34d891310b29afc",
            "3f9ddcf3af8847e18a4a3e531ef829ac",
            "1536d5f2db534210b55670a8a63ac2e0",
            "d5e4b4f6bb2748639bb0fa1d88fc0edc",
            "543343c3a4c0424aa4ba01842ee37c88",
            "46522d92e14a4a2aa7aed77e13835f66",
            "c5a657bb1ea14787aa52ce3c9b49ba6e",
            "1a67a47171a74b65a232eb07144dcfc2",
            "9f8c54f84df74b629a6e6f9aee5b8164",
            "59ac227a02dd4490b51ab61a0d9a2f66",
            "57e36bc594af4692b109c8b9e035acaa",
            "123a49b1da244347b6777aa69e521899",
            "fa4334d0a6e44567b83fcd8215763c18",
            "3404d7bb173a46ac82a455e7eaacc13f"
          ]
        },
        "outputId": "5f3fdaa1-fdf1-4822-cb41-c3bc7f1de710"
      },
      "source": [
        "# This and the subsequent cells computes the JS Divergence between the attention distribtuions of heads. It then uses MDS to project down to\n",
        "#2D space to visualize the distances between heads.\n",
        "in_file=open('/content/drive/My Drive/MTP/Datasets/english-sentences-1000.txt','r',encoding='utf-8')\n",
        "\n",
        "lines=in_file.readlines()\n",
        "\n",
        "tokenizer=transformers.BertTokenizer.from_pretrained('bert-base-multilingual-cased')\n",
        "\n",
        "bert_model = transformers.BertModel.from_pretrained('bert-base-multilingual-cased', output_attentions=True)\n",
        "\n",
        "class SentenceDataset(Dataset):\n",
        "  \n",
        "  def __init__(self, sentences,tokenizer,max_len):\n",
        "    self.sentences=sentences\n",
        "    self.tokenizer=tokenizer\n",
        "    self.max_len=max_len\n",
        "\n",
        "  def __len__(self):\n",
        "    return len(self.sentences)\n",
        "\n",
        "  def __getitem__(self,item):\n",
        "    sentence=str(self.sentences[item])\n",
        "\n",
        "    encoding=tokenizer.encode_plus(\n",
        "        sentence,\n",
        "        max_length=self.max_len,\n",
        "        add_special_tokens=True,\n",
        "        pad_to_max_length=True,\n",
        "        return_attention_mask=True,\n",
        "        return_token_type_ids=False,\n",
        "        truncation=True,\n",
        "        return_tensors='pt'\n",
        "    )\n",
        "\n",
        "    return{\n",
        "        'sentence':sentence,\n",
        "        'input_ids':encoding['input_ids'],\n",
        "        'attention_mask':encoding['attention_mask']\n",
        "    }\n",
        "\n",
        "MAX_LEN=64\n",
        "BATCH_SIZE=8\n",
        "\n",
        "def create_data_loader(sentences,tokenizer,max_len,batch_size):\n",
        "  ds= SentenceDataset(\n",
        "      sentences=sentences,\n",
        "      tokenizer=tokenizer,\n",
        "      max_len=max_len\n",
        "  )\n",
        "\n",
        "  return DataLoader(\n",
        "      ds,\n",
        "      batch_size=batch_size\n",
        "  )\n",
        "\n",
        "\n",
        "data_loader=create_data_loader(lines[:10],tokenizer,MAX_LEN,BATCH_SIZE)\n",
        "\n",
        "attentionHeads = np.array([[[[0 for i in range(64)] for j in range(64)] for k in range(145)] for l in range(len(data_loader.dataset))],dtype=float)\n",
        "\n",
        "counts=np.array([0 for i in range(len(data_loader.dataset))])\n",
        "\n",
        "for count, data in enumerate(iter(data_loader)):\n",
        "  last_hidden_state,pooler_output, attentions = bert_model(input_ids=torch.squeeze(data['input_ids']),attention_mask=torch.squeeze(data['attention_mask']),return_dict=False)\n",
        "  for attention_id, attention in enumerate(attentions):\n",
        "    for element in range(attention.shape[0]):\n",
        "      for head in range(attention.shape[1]):\n",
        "        number = attention_id * 12 + (head+1)\n",
        "        tokens = tokenizer.tokenize(lines[count * BATCH_SIZE + element])\n",
        "        final_tokens = ['CLS'] + tokens[:62] + ['SEP']\n",
        "        sent_len = len(final_tokens)\n",
        "        counts[count * BATCH_SIZE + element]=sent_len\n",
        "        attentionHeads[count * BATCH_SIZE + element][number]=attention[element][head].detach().numpy()"
      ],
      "execution_count": null,
      "outputs": [
        {
          "output_type": "display_data",
          "data": {
            "application/vnd.jupyter.widget-view+json": {
              "model_id": "2d59e86d4ac74a98829c99973fa867f1",
              "version_minor": 0,
              "version_major": 2
            },
            "text/plain": [
              "HBox(children=(FloatProgress(value=0.0, description='Downloading', max=995526.0, style=ProgressStyle(descripti…"
            ]
          },
          "metadata": {
            "tags": []
          }
        },
        {
          "output_type": "stream",
          "text": [
            "\n"
          ],
          "name": "stdout"
        },
        {
          "output_type": "display_data",
          "data": {
            "application/vnd.jupyter.widget-view+json": {
              "model_id": "b9e379425a254b36b36e60e0fa1f1af6",
              "version_minor": 0,
              "version_major": 2
            },
            "text/plain": [
              "HBox(children=(FloatProgress(value=0.0, description='Downloading', max=29.0, style=ProgressStyle(description_w…"
            ]
          },
          "metadata": {
            "tags": []
          }
        },
        {
          "output_type": "stream",
          "text": [
            "\n"
          ],
          "name": "stdout"
        },
        {
          "output_type": "display_data",
          "data": {
            "application/vnd.jupyter.widget-view+json": {
              "model_id": "2c6658df6caf43a687579cdfd5bc5d66",
              "version_minor": 0,
              "version_major": 2
            },
            "text/plain": [
              "HBox(children=(FloatProgress(value=0.0, description='Downloading', max=1961828.0, style=ProgressStyle(descript…"
            ]
          },
          "metadata": {
            "tags": []
          }
        },
        {
          "output_type": "stream",
          "text": [
            "\n"
          ],
          "name": "stdout"
        },
        {
          "output_type": "display_data",
          "data": {
            "application/vnd.jupyter.widget-view+json": {
              "model_id": "d16039a4fbcd4c74bd49c2c690c56b46",
              "version_minor": 0,
              "version_major": 2
            },
            "text/plain": [
              "HBox(children=(FloatProgress(value=0.0, description='Downloading', max=625.0, style=ProgressStyle(description_…"
            ]
          },
          "metadata": {
            "tags": []
          }
        },
        {
          "output_type": "stream",
          "text": [
            "\n"
          ],
          "name": "stdout"
        },
        {
          "output_type": "display_data",
          "data": {
            "application/vnd.jupyter.widget-view+json": {
              "model_id": "c5a657bb1ea14787aa52ce3c9b49ba6e",
              "version_minor": 0,
              "version_major": 2
            },
            "text/plain": [
              "HBox(children=(FloatProgress(value=0.0, description='Downloading', max=714314041.0, style=ProgressStyle(descri…"
            ]
          },
          "metadata": {
            "tags": []
          }
        },
        {
          "output_type": "stream",
          "text": [
            "\n"
          ],
          "name": "stdout"
        },
        {
          "output_type": "stream",
          "text": [
            "/usr/local/lib/python3.7/dist-packages/transformers/tokenization_utils_base.py:2079: FutureWarning:\n",
            "\n",
            "The `pad_to_max_length` argument is deprecated and will be removed in a future version, use `padding=True` or `padding='longest'` to pad to the longest sequence in the batch, or use `padding='max_length'` to pad to a max length. In this case, you can give a specific length with `max_length` (e.g. `max_length=45`) or leave max_length to None to pad to the maximal input size of the model (e.g. 512 for Bert).\n",
            "\n"
          ],
          "name": "stderr"
        }
      ]
    },
    {
      "cell_type": "code",
      "metadata": {
        "id": "8ZUQMdyZkWlI",
        "colab": {
          "base_uri": "https://localhost:8080/"
        },
        "outputId": "a8fe6940-61b1-4ee8-d5ba-80d6c67b01c0"
      },
      "source": [
        "js_distances=np.array([[0 for i in range(145)] for j in range(145)],dtype=float)\n",
        "\n",
        "for l in range(len(data_loader.dataset)):\n",
        "  for i in range(1,145):\n",
        "    for j in range(1,145):\n",
        "      sum=0\n",
        "      for k in range(counts[l]):\n",
        "        sum+=spatial.distance.jensenshannon(attentionHeads[l][i][k],attentionHeads[l][j][k])\n",
        "      js_distances[i][j]+=(sum/counts[l])\n",
        "  print(l)\n",
        "\n",
        "for i in range(1,145):\n",
        "    for j in range(1,145):\n",
        "      js_distances[i][j]/=len(data_loader.dataset)\n",
        "      \n",
        "print(js_distances.shape)"
      ],
      "execution_count": null,
      "outputs": [
        {
          "output_type": "stream",
          "text": [
            "0\n",
            "1\n",
            "2\n",
            "3\n",
            "4\n",
            "5\n",
            "6\n",
            "7\n",
            "8\n",
            "9\n",
            "(145, 145)\n"
          ],
          "name": "stdout"
        }
      ]
    },
    {
      "cell_type": "code",
      "metadata": {
        "id": "Am0kloyfkYfc"
      },
      "source": [
        "colors=[]\n",
        "for i in range(12):\n",
        "  colors.append('cornflowerblue')\n",
        "\n",
        "for i in range(12):\n",
        "  colors.append('royalblue')\n",
        "\n",
        "for i in range(12):\n",
        "  colors.append('blue')\n",
        "\n",
        "for i in range(12):\n",
        "  colors.append('darkblue')\n",
        "\n",
        "for i in range(12):\n",
        "  colors.append('lightgreen')\n",
        "\n",
        "for i in range(12):\n",
        "  colors.append('lime')\n",
        "\n",
        "for i in range(12):\n",
        "  colors.append('forestgreen')\n",
        "\n",
        "for i in range(12):\n",
        "  colors.append('darkgreen')\n",
        "\n",
        "for i in range(12):\n",
        "  colors.append('lightcoral')\n",
        "\n",
        "for i in range(12):\n",
        "  colors.append('indianred')\n",
        "\n",
        "for i in range(12):\n",
        "  colors.append('red')\n",
        "\n",
        "for i in range(12):\n",
        "  colors.append('darkred')"
      ],
      "execution_count": null,
      "outputs": []
    },
    {
      "cell_type": "code",
      "metadata": {
        "id": "W4qtlfBAkaTI",
        "colab": {
          "base_uri": "https://localhost:8080/",
          "height": 442
        },
        "outputId": "51311abd-25b5-45c5-f7fd-9bcc89eacbc3"
      },
      "source": [
        "embedding = MDS(n_components=2)\n",
        "X_transformed = embedding.fit_transform(js_distances[1:145])\n",
        "print(X_transformed.shape)\n",
        "plt.style.use('default')\n",
        "plt.rcParams['figure.figsize'] = [5,3.4]\n",
        "plt.scatter(X_transformed[:12,0],X_transformed[:12,1],c=colors[:12],label='Layer 1')\n",
        "plt.scatter(X_transformed[12:24,0],X_transformed[12:24,1],c=colors[12:24],label='Layer 2')\n",
        "plt.scatter(X_transformed[24:36,0],X_transformed[24:36,1],c=colors[24:36],label='Layer 3')\n",
        "plt.scatter(X_transformed[36:48,0],X_transformed[36:48,1],c=colors[36:48],label='Layer 4')\n",
        "plt.scatter(X_transformed[48:60,0],X_transformed[48:60,1],c=colors[48:60],label='Layer 5')\n",
        "plt.scatter(X_transformed[60:72,0],X_transformed[60:72,1],c=colors[60:72],label='Layer 6')\n",
        "plt.scatter(X_transformed[72:84,0],X_transformed[72:84,1],c=colors[72:84],label='Layer 7')\n",
        "plt.scatter(X_transformed[84:96,0],X_transformed[84:96,1],c=colors[84:96],label='Layer 8')\n",
        "plt.scatter(X_transformed[96:108,0],X_transformed[96:108,1],c=colors[96:108],label='Layer 9')\n",
        "plt.scatter(X_transformed[108:120,0],X_transformed[108:120,1],c=colors[108:120],label='Layer 10')\n",
        "plt.scatter(X_transformed[120:132,0],X_transformed[120:132,1],c=colors[120:132],label='Layer 11')\n",
        "plt.scatter(X_transformed[132:144,0],X_transformed[132:144,1],c=colors[132:144],label='Layer 12')\n",
        "fig=plt.gcf()\n",
        "plt.legend(bbox_to_anchor=(1.1, 1.05),fontsize=15)"
      ],
      "execution_count": null,
      "outputs": [
        {
          "output_type": "stream",
          "text": [
            "(144, 2)\n"
          ],
          "name": "stdout"
        },
        {
          "output_type": "execute_result",
          "data": {
            "text/plain": [
              "<matplotlib.legend.Legend at 0x7f81a79ac490>"
            ]
          },
          "metadata": {
            "tags": []
          },
          "execution_count": 40
        },
        {
          "output_type": "display_data",
          "data": {
            "image/png": "[encoded data removed]",
            "text/plain": [
              "<Figure size 500x340 with 1 Axes>"
            ]
          },
          "metadata": {
            "tags": []
          }
        }
      ]
    },
    {
      "cell_type": "markdown",
      "metadata": {
        "id": "boG-TJM8xdNN"
      },
      "source": [
        "**Average entropy of attention heads across layers**"
      ]
    },
    {
      "cell_type": "code",
      "metadata": {
        "id": "nBL4Ov50xeVh",
        "colab": {
          "base_uri": "https://localhost:8080/"
        },
        "outputId": "82070efb-1ded-41d9-824b-3253228d966f"
      },
      "source": [
        "#This and the subsequent cells computes the average entropy of attention heads(blue dots) and the average entropy per layer(red line).\n",
        "\n",
        "in_file=open('/content/drive/My Drive/MTP/Datasets/english-sentences-1000.txt','r',encoding='utf-8')\n",
        "\n",
        "lines=in_file.readlines()\n",
        "\n",
        "tokenizer=transformers.BertTokenizer.from_pretrained('bert-base-multilingual-cased')\n",
        "\n",
        "bert_model = transformers.BertModel.from_pretrained('bert-base-multilingual-cased', output_attentions=True)\n",
        "\n",
        "class SentenceDataset(Dataset):\n",
        "  \n",
        "  def __init__(self, sentences,tokenizer,max_len):\n",
        "    self.sentences=sentences\n",
        "    self.tokenizer=tokenizer\n",
        "    self.max_len=max_len\n",
        "\n",
        "  def __len__(self):\n",
        "    return len(self.sentences)\n",
        "\n",
        "  def __getitem__(self,item):\n",
        "    sentence=str(self.sentences[item])\n",
        "\n",
        "    encoding=tokenizer.encode_plus(\n",
        "        sentence,\n",
        "        max_length=self.max_len,\n",
        "        add_special_tokens=True,\n",
        "        pad_to_max_length=True,\n",
        "        return_attention_mask=True,\n",
        "        return_token_type_ids=False,\n",
        "        truncation=True,\n",
        "        return_tensors='pt'\n",
        "    )\n",
        "\n",
        "    return{\n",
        "        'sentence':sentence,\n",
        "        'input_ids':encoding['input_ids'],\n",
        "        'attention_mask':encoding['attention_mask']\n",
        "    }\n",
        "\n",
        "MAX_LEN=64\n",
        "BATCH_SIZE=8\n",
        "\n",
        "def create_data_loader(sentences,tokenizer,max_len,batch_size):\n",
        "  ds= SentenceDataset(\n",
        "      sentences=sentences,\n",
        "      tokenizer=tokenizer,\n",
        "      max_len=max_len\n",
        "  )\n",
        "\n",
        "  return DataLoader(\n",
        "      ds,\n",
        "      batch_size=batch_size\n",
        "  )\n",
        "\n",
        "\n",
        "data_loader=create_data_loader(lines[:50],tokenizer,MAX_LEN,BATCH_SIZE)\n",
        "\n",
        "attentionHeads = np.array([[[[0 for i in range(64)] for j in range(64)] for k in range(145)] for l in range(len(data_loader.dataset))],dtype=float)\n",
        "\n",
        "counts=np.array([0 for i in range(len(data_loader.dataset))])\n",
        "\n",
        "for count, data in enumerate(iter(data_loader)):\n",
        "  last_hidden_state,pooler_output, attentions = bert_model(input_ids=torch.squeeze(data['input_ids']),attention_mask=torch.squeeze(data['attention_mask']),return_dict=False)\n",
        "  for attention_id, attention in enumerate(attentions):\n",
        "    for element in range(attention.shape[0]):\n",
        "      for head in range(attention.shape[1]):\n",
        "        number = attention_id * 12 + (head+1)\n",
        "        tokens = tokenizer.tokenize(lines[count * BATCH_SIZE + element])\n",
        "        final_tokens = ['CLS'] + tokens[:62] + ['SEP']\n",
        "        sent_len = len(final_tokens)\n",
        "        counts[count * BATCH_SIZE + element]=sent_len\n",
        "        attentionHeads[count * BATCH_SIZE + element][number]=attention[element][head].detach().numpy()"
      ],
      "execution_count": null,
      "outputs": [
        {
          "output_type": "stream",
          "text": [
            "/usr/local/lib/python3.7/dist-packages/transformers/tokenization_utils_base.py:2079: FutureWarning:\n",
            "\n",
            "The `pad_to_max_length` argument is deprecated and will be removed in a future version, use `padding=True` or `padding='longest'` to pad to the longest sequence in the batch, or use `padding='max_length'` to pad to a max length. In this case, you can give a specific length with `max_length` (e.g. `max_length=45`) or leave max_length to None to pad to the maximal input size of the model (e.g. 512 for Bert).\n",
            "\n"
          ],
          "name": "stderr"
        }
      ]
    },
    {
      "cell_type": "code",
      "metadata": {
        "id": "xVUTxStOxhV7"
      },
      "source": [
        "#Average Entropies from all tokens\n",
        "\n",
        "entropies=np.array([0 for i in range(145)],dtype=float)\n",
        "\n",
        "for i in range(1,145):\n",
        "  for element in range(len(data_loader.dataset)):\n",
        "    sum=0\n",
        "    for k in range(counts[element]):\n",
        "      sum+=stats.entropy(attentionHeads[element][i][k])\n",
        "    entropies[i]+=sum/counts[element]\n",
        "\n",
        "for i in range(1,145):\n",
        "  entropies[i]/=len(data_loader.dataset)\n",
        "\n",
        "avgEntropies=[]\n",
        "for i in range(1,145,12):\n",
        "  avgEntropies.append(entropies[i:i+12].sum()/12)"
      ],
      "execution_count": null,
      "outputs": []
    },
    {
      "cell_type": "code",
      "metadata": {
        "id": "OURkzHSOxkg6",
        "colab": {
          "base_uri": "https://localhost:8080/",
          "height": 360
        },
        "outputId": "a2aaba8e-55c7-4bb9-ca3e-38cf3186ed40"
      },
      "source": [
        "layers=[1] * 12 + [2] * 12 + [3] * 12 + [4] * 12 + [5] * 12 + [6] * 12 + [7] * 12 + [8] * 12 + [9] * 12 + [10] * 12 + [11] * 12 + [12] * 12\n",
        "plt.rcParams['figure.figsize'] = [5,3.4]\n",
        "plt.rcParams['font.size'] = 15\n",
        "plt.rcParams[\"font.family\"] = \"Times New Roman\"\n",
        "plt.scatter(layers,entropies[1:])\n",
        "plt.plot(np.arange(1,13),avgEntropies,color='red')\n",
        "plt.xticks(np.arange(1,13))\n",
        "plt.xlabel('Layer')\n",
        "plt.ylabel('Average attention entropy')\n",
        "fig=plt.gcf()\n",
        "plt.show()"
      ],
      "execution_count": null,
      "outputs": [
        {
          "output_type": "display_data",
          "data": {
            "image/png": "[encoded data removed]",
            "text/plain": [
              "<Figure size 500x340 with 1 Axes>"
            ]
          },
          "metadata": {
            "tags": []
          }
        }
      ]
    },
    {
      "cell_type": "code",
      "metadata": {
        "id": "d4rz0rS_ttPZ"
      },
      "source": [
        "#This is to install the orca dependency for saving plotly images as PDFs.\n",
        "\n",
        "!wget https://github.com/plotly/orca/releases/download/v1.2.1/orca-1.2.1-x86_64.AppImage -O /usr/local/bin/orca\n",
        "!chmod +x /usr/local/bin/orca\n",
        "!apt-get update\n",
        "!apt-get install xvfb libgtk2.0-0 libgconf-2-4"
      ],
      "execution_count": null,
      "outputs": []
    }
  ]
}